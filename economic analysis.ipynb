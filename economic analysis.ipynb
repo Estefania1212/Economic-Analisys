{
 "cells": [
  {
   "cell_type": "code",
   "execution_count": 52,
   "metadata": {},
   "outputs": [],
   "source": [
    "import pandas as pd \n",
    "import numpy as np \n",
    "import matplotlib.pyplot as plt \n",
    "import plotly.express as px\n",
    "from prophet import Prophet\n",
    "plt.style.use('fivethirtyeight')\n",
    "pd.set_option('display.max_columns', 500)\n",
    "color_pal=plt.rcParams['axes.prop_cycle'].by_key()['color']\n",
    "from prophet.diagnostics import cross_validation,performance_metrics\n",
    "\n",
    "from fredapi import Fred"
   ]
  },
  {
   "cell_type": "code",
   "execution_count": 26,
   "metadata": {},
   "outputs": [],
   "source": [
    "fred_key ='f72f5a8c728effe05141d8d03abfa2a1 '"
   ]
  },
  {
   "cell_type": "code",
   "execution_count": 27,
   "metadata": {},
   "outputs": [],
   "source": [
    "##Create Fred Object \n",
    "fred= Fred(api_key='f72f5a8c728effe05141d8d03abfa2a1' )"
   ]
  },
  {
   "cell_type": "code",
   "execution_count": 28,
   "metadata": {},
   "outputs": [],
   "source": [
    "##Search from economic Data \n",
    "df=fred.search('Consumer Price Index of All Items in the United Kingdom')"
   ]
  },
  {
   "cell_type": "code",
   "execution_count": 29,
   "metadata": {},
   "outputs": [
    {
     "data": {
      "text/html": [
       "<div>\n",
       "<style scoped>\n",
       "    .dataframe tbody tr th:only-of-type {\n",
       "        vertical-align: middle;\n",
       "    }\n",
       "\n",
       "    .dataframe tbody tr th {\n",
       "        vertical-align: top;\n",
       "    }\n",
       "\n",
       "    .dataframe thead th {\n",
       "        text-align: right;\n",
       "    }\n",
       "</style>\n",
       "<table border=\"1\" class=\"dataframe\">\n",
       "  <thead>\n",
       "    <tr style=\"text-align: right;\">\n",
       "      <th></th>\n",
       "      <th>id</th>\n",
       "      <th>realtime_start</th>\n",
       "      <th>realtime_end</th>\n",
       "      <th>title</th>\n",
       "      <th>observation_start</th>\n",
       "      <th>observation_end</th>\n",
       "      <th>frequency</th>\n",
       "      <th>frequency_short</th>\n",
       "      <th>units</th>\n",
       "      <th>units_short</th>\n",
       "      <th>seasonal_adjustment</th>\n",
       "      <th>seasonal_adjustment_short</th>\n",
       "      <th>last_updated</th>\n",
       "      <th>popularity</th>\n",
       "      <th>notes</th>\n",
       "    </tr>\n",
       "    <tr>\n",
       "      <th>series id</th>\n",
       "      <th></th>\n",
       "      <th></th>\n",
       "      <th></th>\n",
       "      <th></th>\n",
       "      <th></th>\n",
       "      <th></th>\n",
       "      <th></th>\n",
       "      <th></th>\n",
       "      <th></th>\n",
       "      <th></th>\n",
       "      <th></th>\n",
       "      <th></th>\n",
       "      <th></th>\n",
       "      <th></th>\n",
       "      <th></th>\n",
       "    </tr>\n",
       "  </thead>\n",
       "  <tbody>\n",
       "    <tr>\n",
       "      <th>GBRCPIALLMINMEI</th>\n",
       "      <td>GBRCPIALLMINMEI</td>\n",
       "      <td>2023-04-29</td>\n",
       "      <td>2023-04-29</td>\n",
       "      <td>Consumer Price Index of All Items in the Unite...</td>\n",
       "      <td>1960-01-01</td>\n",
       "      <td>2023-02-01</td>\n",
       "      <td>Monthly</td>\n",
       "      <td>M</td>\n",
       "      <td>Index 2015=100</td>\n",
       "      <td>Index 2015=100</td>\n",
       "      <td>Not Seasonally Adjusted</td>\n",
       "      <td>NSA</td>\n",
       "      <td>2023-04-20 15:37:03-05:00</td>\n",
       "      <td>61</td>\n",
       "      <td>Copyright, 2016, OECD. Reprinted with permissi...</td>\n",
       "    </tr>\n",
       "    <tr>\n",
       "      <th>GBRCPIALLQINMEI</th>\n",
       "      <td>GBRCPIALLQINMEI</td>\n",
       "      <td>2023-04-29</td>\n",
       "      <td>2023-04-29</td>\n",
       "      <td>Consumer Price Index of All Items in the Unite...</td>\n",
       "      <td>1960-01-01</td>\n",
       "      <td>2022-10-01</td>\n",
       "      <td>Quarterly</td>\n",
       "      <td>Q</td>\n",
       "      <td>Index 2015=100</td>\n",
       "      <td>Index 2015=100</td>\n",
       "      <td>Not Seasonally Adjusted</td>\n",
       "      <td>NSA</td>\n",
       "      <td>2023-02-14 11:29:02-06:00</td>\n",
       "      <td>31</td>\n",
       "      <td>Copyright, 2016, OECD. Reprinted with permissi...</td>\n",
       "    </tr>\n",
       "    <tr>\n",
       "      <th>CPALTT01GBM659N</th>\n",
       "      <td>CPALTT01GBM659N</td>\n",
       "      <td>2023-04-29</td>\n",
       "      <td>2023-04-29</td>\n",
       "      <td>Consumer Price Index: Total All Items for the ...</td>\n",
       "      <td>1960-01-01</td>\n",
       "      <td>2023-02-01</td>\n",
       "      <td>Monthly</td>\n",
       "      <td>M</td>\n",
       "      <td>Growth rate same period previous year</td>\n",
       "      <td>Growth rate same period previous Yr.</td>\n",
       "      <td>Not Seasonally Adjusted</td>\n",
       "      <td>NSA</td>\n",
       "      <td>2023-04-20 15:37:04-05:00</td>\n",
       "      <td>43</td>\n",
       "      <td>OECD descriptor ID: CPALTT01 OECD unit ID: GY ...</td>\n",
       "    </tr>\n",
       "    <tr>\n",
       "      <th>CPALTT01GBQ657N</th>\n",
       "      <td>CPALTT01GBQ657N</td>\n",
       "      <td>2023-04-29</td>\n",
       "      <td>2023-04-29</td>\n",
       "      <td>Consumer Price Index: Total All Items for the ...</td>\n",
       "      <td>1960-01-01</td>\n",
       "      <td>2022-10-01</td>\n",
       "      <td>Quarterly</td>\n",
       "      <td>Q</td>\n",
       "      <td>Growth rate previous period</td>\n",
       "      <td>Growth rate previous period</td>\n",
       "      <td>Not Seasonally Adjusted</td>\n",
       "      <td>NSA</td>\n",
       "      <td>2023-02-14 11:29:02-06:00</td>\n",
       "      <td>15</td>\n",
       "      <td>OECD descriptor ID: CPALTT01 OECD unit ID: GP ...</td>\n",
       "    </tr>\n",
       "    <tr>\n",
       "      <th>CPALTT01GBM657N</th>\n",
       "      <td>CPALTT01GBM657N</td>\n",
       "      <td>2023-04-29</td>\n",
       "      <td>2023-04-29</td>\n",
       "      <td>Consumer Price Index: Total All Items for the ...</td>\n",
       "      <td>1960-01-01</td>\n",
       "      <td>2023-02-01</td>\n",
       "      <td>Monthly</td>\n",
       "      <td>M</td>\n",
       "      <td>Growth rate previous period</td>\n",
       "      <td>Growth rate previous period</td>\n",
       "      <td>Not Seasonally Adjusted</td>\n",
       "      <td>NSA</td>\n",
       "      <td>2023-04-20 15:37:13-05:00</td>\n",
       "      <td>3</td>\n",
       "      <td>OECD descriptor ID: CPALTT01 OECD unit ID: GP ...</td>\n",
       "    </tr>\n",
       "    <tr>\n",
       "      <th>CPALTT01GBQ659N</th>\n",
       "      <td>CPALTT01GBQ659N</td>\n",
       "      <td>2023-04-29</td>\n",
       "      <td>2023-04-29</td>\n",
       "      <td>Consumer Price Index: Total All Items for the ...</td>\n",
       "      <td>1960-01-01</td>\n",
       "      <td>2022-10-01</td>\n",
       "      <td>Quarterly</td>\n",
       "      <td>Q</td>\n",
       "      <td>Growth rate same period previous year</td>\n",
       "      <td>Growth rate same period previous Yr.</td>\n",
       "      <td>Not Seasonally Adjusted</td>\n",
       "      <td>NSA</td>\n",
       "      <td>2023-02-14 11:29:03-06:00</td>\n",
       "      <td>3</td>\n",
       "      <td>OECD descriptor ID: CPALTT01 OECD unit ID: GY ...</td>\n",
       "    </tr>\n",
       "    <tr>\n",
       "      <th>CPALTT01GBA659N</th>\n",
       "      <td>CPALTT01GBA659N</td>\n",
       "      <td>2023-04-29</td>\n",
       "      <td>2023-04-29</td>\n",
       "      <td>Consumer Price Index: Total All Items for the ...</td>\n",
       "      <td>1960-01-01</td>\n",
       "      <td>2022-01-01</td>\n",
       "      <td>Annual</td>\n",
       "      <td>A</td>\n",
       "      <td>Growth rate same period previous year</td>\n",
       "      <td>Growth rate same period previous Yr.</td>\n",
       "      <td>Not Seasonally Adjusted</td>\n",
       "      <td>NSA</td>\n",
       "      <td>2023-02-14 11:47:05-06:00</td>\n",
       "      <td>2</td>\n",
       "      <td>OECD descriptor ID: CPALTT01 OECD unit ID: GY ...</td>\n",
       "    </tr>\n",
       "  </tbody>\n",
       "</table>\n",
       "</div>"
      ],
      "text/plain": [
       "                              id realtime_start realtime_end  \\\n",
       "series id                                                      \n",
       "GBRCPIALLMINMEI  GBRCPIALLMINMEI     2023-04-29   2023-04-29   \n",
       "GBRCPIALLQINMEI  GBRCPIALLQINMEI     2023-04-29   2023-04-29   \n",
       "CPALTT01GBM659N  CPALTT01GBM659N     2023-04-29   2023-04-29   \n",
       "CPALTT01GBQ657N  CPALTT01GBQ657N     2023-04-29   2023-04-29   \n",
       "CPALTT01GBM657N  CPALTT01GBM657N     2023-04-29   2023-04-29   \n",
       "CPALTT01GBQ659N  CPALTT01GBQ659N     2023-04-29   2023-04-29   \n",
       "CPALTT01GBA659N  CPALTT01GBA659N     2023-04-29   2023-04-29   \n",
       "\n",
       "                                                             title  \\\n",
       "series id                                                            \n",
       "GBRCPIALLMINMEI  Consumer Price Index of All Items in the Unite...   \n",
       "GBRCPIALLQINMEI  Consumer Price Index of All Items in the Unite...   \n",
       "CPALTT01GBM659N  Consumer Price Index: Total All Items for the ...   \n",
       "CPALTT01GBQ657N  Consumer Price Index: Total All Items for the ...   \n",
       "CPALTT01GBM657N  Consumer Price Index: Total All Items for the ...   \n",
       "CPALTT01GBQ659N  Consumer Price Index: Total All Items for the ...   \n",
       "CPALTT01GBA659N  Consumer Price Index: Total All Items for the ...   \n",
       "\n",
       "                observation_start observation_end  frequency frequency_short  \\\n",
       "series id                                                                      \n",
       "GBRCPIALLMINMEI        1960-01-01      2023-02-01    Monthly               M   \n",
       "GBRCPIALLQINMEI        1960-01-01      2022-10-01  Quarterly               Q   \n",
       "CPALTT01GBM659N        1960-01-01      2023-02-01    Monthly               M   \n",
       "CPALTT01GBQ657N        1960-01-01      2022-10-01  Quarterly               Q   \n",
       "CPALTT01GBM657N        1960-01-01      2023-02-01    Monthly               M   \n",
       "CPALTT01GBQ659N        1960-01-01      2022-10-01  Quarterly               Q   \n",
       "CPALTT01GBA659N        1960-01-01      2022-01-01     Annual               A   \n",
       "\n",
       "                                                 units  \\\n",
       "series id                                                \n",
       "GBRCPIALLMINMEI                         Index 2015=100   \n",
       "GBRCPIALLQINMEI                         Index 2015=100   \n",
       "CPALTT01GBM659N  Growth rate same period previous year   \n",
       "CPALTT01GBQ657N            Growth rate previous period   \n",
       "CPALTT01GBM657N            Growth rate previous period   \n",
       "CPALTT01GBQ659N  Growth rate same period previous year   \n",
       "CPALTT01GBA659N  Growth rate same period previous year   \n",
       "\n",
       "                                          units_short  \\\n",
       "series id                                               \n",
       "GBRCPIALLMINMEI                        Index 2015=100   \n",
       "GBRCPIALLQINMEI                        Index 2015=100   \n",
       "CPALTT01GBM659N  Growth rate same period previous Yr.   \n",
       "CPALTT01GBQ657N           Growth rate previous period   \n",
       "CPALTT01GBM657N           Growth rate previous period   \n",
       "CPALTT01GBQ659N  Growth rate same period previous Yr.   \n",
       "CPALTT01GBA659N  Growth rate same period previous Yr.   \n",
       "\n",
       "                     seasonal_adjustment seasonal_adjustment_short  \\\n",
       "series id                                                            \n",
       "GBRCPIALLMINMEI  Not Seasonally Adjusted                       NSA   \n",
       "GBRCPIALLQINMEI  Not Seasonally Adjusted                       NSA   \n",
       "CPALTT01GBM659N  Not Seasonally Adjusted                       NSA   \n",
       "CPALTT01GBQ657N  Not Seasonally Adjusted                       NSA   \n",
       "CPALTT01GBM657N  Not Seasonally Adjusted                       NSA   \n",
       "CPALTT01GBQ659N  Not Seasonally Adjusted                       NSA   \n",
       "CPALTT01GBA659N  Not Seasonally Adjusted                       NSA   \n",
       "\n",
       "                              last_updated popularity  \\\n",
       "series id                                               \n",
       "GBRCPIALLMINMEI  2023-04-20 15:37:03-05:00         61   \n",
       "GBRCPIALLQINMEI  2023-02-14 11:29:02-06:00         31   \n",
       "CPALTT01GBM659N  2023-04-20 15:37:04-05:00         43   \n",
       "CPALTT01GBQ657N  2023-02-14 11:29:02-06:00         15   \n",
       "CPALTT01GBM657N  2023-04-20 15:37:13-05:00          3   \n",
       "CPALTT01GBQ659N  2023-02-14 11:29:03-06:00          3   \n",
       "CPALTT01GBA659N  2023-02-14 11:47:05-06:00          2   \n",
       "\n",
       "                                                             notes  \n",
       "series id                                                           \n",
       "GBRCPIALLMINMEI  Copyright, 2016, OECD. Reprinted with permissi...  \n",
       "GBRCPIALLQINMEI  Copyright, 2016, OECD. Reprinted with permissi...  \n",
       "CPALTT01GBM659N  OECD descriptor ID: CPALTT01 OECD unit ID: GY ...  \n",
       "CPALTT01GBQ657N  OECD descriptor ID: CPALTT01 OECD unit ID: GP ...  \n",
       "CPALTT01GBM657N  OECD descriptor ID: CPALTT01 OECD unit ID: GP ...  \n",
       "CPALTT01GBQ659N  OECD descriptor ID: CPALTT01 OECD unit ID: GY ...  \n",
       "CPALTT01GBA659N  OECD descriptor ID: CPALTT01 OECD unit ID: GY ...  "
      ]
     },
     "execution_count": 29,
     "metadata": {},
     "output_type": "execute_result"
    }
   ],
   "source": [
    "df.head(7)"
   ]
  },
  {
   "cell_type": "code",
   "execution_count": 30,
   "metadata": {},
   "outputs": [
    {
     "data": {
      "text/plain": [
       "(54, 15)"
      ]
     },
     "execution_count": 30,
     "metadata": {},
     "output_type": "execute_result"
    }
   ],
   "source": [
    "df.shape"
   ]
  },
  {
   "cell_type": "code",
   "execution_count": 31,
   "metadata": {},
   "outputs": [
    {
     "data": {
      "text/plain": [
       "1955-01-01      NaN\n",
       "1955-02-01      NaN\n",
       "1955-03-01      NaN\n",
       "1955-04-01      NaN\n",
       "1955-05-01      NaN\n",
       "              ...  \n",
       "2022-10-01    124.3\n",
       "2022-11-01    124.8\n",
       "2022-12-01    125.3\n",
       "2023-01-01    124.8\n",
       "2023-02-01    126.0\n",
       "Name: values, Length: 818, dtype: float64"
      ]
     },
     "execution_count": 31,
     "metadata": {},
     "output_type": "execute_result"
    }
   ],
   "source": [
    "cpi=fred.get_series('GBRCPIALLMINMEI')\n",
    "cpi.name='values'\n",
    "cpi"
   ]
  },
  {
   "cell_type": "code",
   "execution_count": 32,
   "metadata": {},
   "outputs": [
    {
     "data": {
      "text/html": [
       "<div>\n",
       "<style scoped>\n",
       "    .dataframe tbody tr th:only-of-type {\n",
       "        vertical-align: middle;\n",
       "    }\n",
       "\n",
       "    .dataframe tbody tr th {\n",
       "        vertical-align: top;\n",
       "    }\n",
       "\n",
       "    .dataframe thead th {\n",
       "        text-align: right;\n",
       "    }\n",
       "</style>\n",
       "<table border=\"1\" class=\"dataframe\">\n",
       "  <thead>\n",
       "    <tr style=\"text-align: right;\">\n",
       "      <th></th>\n",
       "      <th>index</th>\n",
       "      <th>values</th>\n",
       "    </tr>\n",
       "  </thead>\n",
       "  <tbody>\n",
       "    <tr>\n",
       "      <th>0</th>\n",
       "      <td>1955-01-01</td>\n",
       "      <td>NaN</td>\n",
       "    </tr>\n",
       "    <tr>\n",
       "      <th>1</th>\n",
       "      <td>1955-02-01</td>\n",
       "      <td>NaN</td>\n",
       "    </tr>\n",
       "    <tr>\n",
       "      <th>2</th>\n",
       "      <td>1955-03-01</td>\n",
       "      <td>NaN</td>\n",
       "    </tr>\n",
       "    <tr>\n",
       "      <th>3</th>\n",
       "      <td>1955-04-01</td>\n",
       "      <td>NaN</td>\n",
       "    </tr>\n",
       "    <tr>\n",
       "      <th>4</th>\n",
       "      <td>1955-05-01</td>\n",
       "      <td>NaN</td>\n",
       "    </tr>\n",
       "    <tr>\n",
       "      <th>...</th>\n",
       "      <td>...</td>\n",
       "      <td>...</td>\n",
       "    </tr>\n",
       "    <tr>\n",
       "      <th>813</th>\n",
       "      <td>2022-10-01</td>\n",
       "      <td>124.3</td>\n",
       "    </tr>\n",
       "    <tr>\n",
       "      <th>814</th>\n",
       "      <td>2022-11-01</td>\n",
       "      <td>124.8</td>\n",
       "    </tr>\n",
       "    <tr>\n",
       "      <th>815</th>\n",
       "      <td>2022-12-01</td>\n",
       "      <td>125.3</td>\n",
       "    </tr>\n",
       "    <tr>\n",
       "      <th>816</th>\n",
       "      <td>2023-01-01</td>\n",
       "      <td>124.8</td>\n",
       "    </tr>\n",
       "    <tr>\n",
       "      <th>817</th>\n",
       "      <td>2023-02-01</td>\n",
       "      <td>126.0</td>\n",
       "    </tr>\n",
       "  </tbody>\n",
       "</table>\n",
       "<p>818 rows × 2 columns</p>\n",
       "</div>"
      ],
      "text/plain": [
       "         index  values\n",
       "0   1955-01-01     NaN\n",
       "1   1955-02-01     NaN\n",
       "2   1955-03-01     NaN\n",
       "3   1955-04-01     NaN\n",
       "4   1955-05-01     NaN\n",
       "..         ...     ...\n",
       "813 2022-10-01   124.3\n",
       "814 2022-11-01   124.8\n",
       "815 2022-12-01   125.3\n",
       "816 2023-01-01   124.8\n",
       "817 2023-02-01   126.0\n",
       "\n",
       "[818 rows x 2 columns]"
      ]
     },
     "execution_count": 32,
     "metadata": {},
     "output_type": "execute_result"
    }
   ],
   "source": [
    "df=pd.DataFrame(cpi).reset_index()\n",
    "df"
   ]
  },
  {
   "cell_type": "code",
   "execution_count": 33,
   "metadata": {},
   "outputs": [
    {
     "data": {
      "text/html": [
       "<div>\n",
       "<style scoped>\n",
       "    .dataframe tbody tr th:only-of-type {\n",
       "        vertical-align: middle;\n",
       "    }\n",
       "\n",
       "    .dataframe tbody tr th {\n",
       "        vertical-align: top;\n",
       "    }\n",
       "\n",
       "    .dataframe thead th {\n",
       "        text-align: right;\n",
       "    }\n",
       "</style>\n",
       "<table border=\"1\" class=\"dataframe\">\n",
       "  <thead>\n",
       "    <tr style=\"text-align: right;\">\n",
       "      <th></th>\n",
       "      <th>index</th>\n",
       "      <th>values</th>\n",
       "    </tr>\n",
       "  </thead>\n",
       "  <tbody>\n",
       "    <tr>\n",
       "      <th>420</th>\n",
       "      <td>1990-01-01</td>\n",
       "      <td>52.4</td>\n",
       "    </tr>\n",
       "    <tr>\n",
       "      <th>421</th>\n",
       "      <td>1990-02-01</td>\n",
       "      <td>52.9</td>\n",
       "    </tr>\n",
       "    <tr>\n",
       "      <th>422</th>\n",
       "      <td>1990-03-01</td>\n",
       "      <td>53.1</td>\n",
       "    </tr>\n",
       "    <tr>\n",
       "      <th>423</th>\n",
       "      <td>1990-04-01</td>\n",
       "      <td>54.4</td>\n",
       "    </tr>\n",
       "    <tr>\n",
       "      <th>424</th>\n",
       "      <td>1990-05-01</td>\n",
       "      <td>55.0</td>\n",
       "    </tr>\n",
       "    <tr>\n",
       "      <th>...</th>\n",
       "      <td>...</td>\n",
       "      <td>...</td>\n",
       "    </tr>\n",
       "    <tr>\n",
       "      <th>813</th>\n",
       "      <td>2022-10-01</td>\n",
       "      <td>124.3</td>\n",
       "    </tr>\n",
       "    <tr>\n",
       "      <th>814</th>\n",
       "      <td>2022-11-01</td>\n",
       "      <td>124.8</td>\n",
       "    </tr>\n",
       "    <tr>\n",
       "      <th>815</th>\n",
       "      <td>2022-12-01</td>\n",
       "      <td>125.3</td>\n",
       "    </tr>\n",
       "    <tr>\n",
       "      <th>816</th>\n",
       "      <td>2023-01-01</td>\n",
       "      <td>124.8</td>\n",
       "    </tr>\n",
       "    <tr>\n",
       "      <th>817</th>\n",
       "      <td>2023-02-01</td>\n",
       "      <td>126.0</td>\n",
       "    </tr>\n",
       "  </tbody>\n",
       "</table>\n",
       "<p>398 rows × 2 columns</p>\n",
       "</div>"
      ],
      "text/plain": [
       "         index  values\n",
       "420 1990-01-01    52.4\n",
       "421 1990-02-01    52.9\n",
       "422 1990-03-01    53.1\n",
       "423 1990-04-01    54.4\n",
       "424 1990-05-01    55.0\n",
       "..         ...     ...\n",
       "813 2022-10-01   124.3\n",
       "814 2022-11-01   124.8\n",
       "815 2022-12-01   125.3\n",
       "816 2023-01-01   124.8\n",
       "817 2023-02-01   126.0\n",
       "\n",
       "[398 rows x 2 columns]"
      ]
     },
     "execution_count": 33,
     "metadata": {},
     "output_type": "execute_result"
    }
   ],
   "source": [
    "df2=df[df['index']>'1989-12-01']\n",
    "df2"
   ]
  },
  {
   "cell_type": "code",
   "execution_count": 11,
   "metadata": {},
   "outputs": [
    {
     "data": {
      "application/vnd.plotly.v1+json": {
       "config": {
        "plotlyServerURL": "https://plot.ly"
       },
       "data": [
        {
         "hovertemplate": "index=%{x}<br>values=%{y}<extra></extra>",
         "legendgroup": "",
         "line": {
          "color": "#636efa",
          "dash": "solid"
         },
         "marker": {
          "symbol": "circle"
         },
         "mode": "lines",
         "name": "",
         "orientation": "v",
         "showlegend": false,
         "type": "scatter",
         "x": [
          "1990-01-01T00:00:00",
          "1990-02-01T00:00:00",
          "1990-03-01T00:00:00",
          "1990-04-01T00:00:00",
          "1990-05-01T00:00:00",
          "1990-06-01T00:00:00",
          "1990-07-01T00:00:00",
          "1990-08-01T00:00:00",
          "1990-09-01T00:00:00",
          "1990-10-01T00:00:00",
          "1990-11-01T00:00:00",
          "1990-12-01T00:00:00",
          "1991-01-01T00:00:00",
          "1991-02-01T00:00:00",
          "1991-03-01T00:00:00",
          "1991-04-01T00:00:00",
          "1991-05-01T00:00:00",
          "1991-06-01T00:00:00",
          "1991-07-01T00:00:00",
          "1991-08-01T00:00:00",
          "1991-09-01T00:00:00",
          "1991-10-01T00:00:00",
          "1991-11-01T00:00:00",
          "1991-12-01T00:00:00",
          "1992-01-01T00:00:00",
          "1992-02-01T00:00:00",
          "1992-03-01T00:00:00",
          "1992-04-01T00:00:00",
          "1992-05-01T00:00:00",
          "1992-06-01T00:00:00",
          "1992-07-01T00:00:00",
          "1992-08-01T00:00:00",
          "1992-09-01T00:00:00",
          "1992-10-01T00:00:00",
          "1992-11-01T00:00:00",
          "1992-12-01T00:00:00",
          "1993-01-01T00:00:00",
          "1993-02-01T00:00:00",
          "1993-03-01T00:00:00",
          "1993-04-01T00:00:00",
          "1993-05-01T00:00:00",
          "1993-06-01T00:00:00",
          "1993-07-01T00:00:00",
          "1993-08-01T00:00:00",
          "1993-09-01T00:00:00",
          "1993-10-01T00:00:00",
          "1993-11-01T00:00:00",
          "1993-12-01T00:00:00",
          "1994-01-01T00:00:00",
          "1994-02-01T00:00:00",
          "1994-03-01T00:00:00",
          "1994-04-01T00:00:00",
          "1994-05-01T00:00:00",
          "1994-06-01T00:00:00",
          "1994-07-01T00:00:00",
          "1994-08-01T00:00:00",
          "1994-09-01T00:00:00",
          "1994-10-01T00:00:00",
          "1994-11-01T00:00:00",
          "1994-12-01T00:00:00",
          "1995-01-01T00:00:00",
          "1995-02-01T00:00:00",
          "1995-03-01T00:00:00",
          "1995-04-01T00:00:00",
          "1995-05-01T00:00:00",
          "1995-06-01T00:00:00",
          "1995-07-01T00:00:00",
          "1995-08-01T00:00:00",
          "1995-09-01T00:00:00",
          "1995-10-01T00:00:00",
          "1995-11-01T00:00:00",
          "1995-12-01T00:00:00",
          "1996-01-01T00:00:00",
          "1996-02-01T00:00:00",
          "1996-03-01T00:00:00",
          "1996-04-01T00:00:00",
          "1996-05-01T00:00:00",
          "1996-06-01T00:00:00",
          "1996-07-01T00:00:00",
          "1996-08-01T00:00:00",
          "1996-09-01T00:00:00",
          "1996-10-01T00:00:00",
          "1996-11-01T00:00:00",
          "1996-12-01T00:00:00",
          "1997-01-01T00:00:00",
          "1997-02-01T00:00:00",
          "1997-03-01T00:00:00",
          "1997-04-01T00:00:00",
          "1997-05-01T00:00:00",
          "1997-06-01T00:00:00",
          "1997-07-01T00:00:00",
          "1997-08-01T00:00:00",
          "1997-09-01T00:00:00",
          "1997-10-01T00:00:00",
          "1997-11-01T00:00:00",
          "1997-12-01T00:00:00",
          "1998-01-01T00:00:00",
          "1998-02-01T00:00:00",
          "1998-03-01T00:00:00",
          "1998-04-01T00:00:00",
          "1998-05-01T00:00:00",
          "1998-06-01T00:00:00",
          "1998-07-01T00:00:00",
          "1998-08-01T00:00:00",
          "1998-09-01T00:00:00",
          "1998-10-01T00:00:00",
          "1998-11-01T00:00:00",
          "1998-12-01T00:00:00",
          "1999-01-01T00:00:00",
          "1999-02-01T00:00:00",
          "1999-03-01T00:00:00",
          "1999-04-01T00:00:00",
          "1999-05-01T00:00:00",
          "1999-06-01T00:00:00",
          "1999-07-01T00:00:00",
          "1999-08-01T00:00:00",
          "1999-09-01T00:00:00",
          "1999-10-01T00:00:00",
          "1999-11-01T00:00:00",
          "1999-12-01T00:00:00",
          "2000-01-01T00:00:00",
          "2000-02-01T00:00:00",
          "2000-03-01T00:00:00",
          "2000-04-01T00:00:00",
          "2000-05-01T00:00:00",
          "2000-06-01T00:00:00",
          "2000-07-01T00:00:00",
          "2000-08-01T00:00:00",
          "2000-09-01T00:00:00",
          "2000-10-01T00:00:00",
          "2000-11-01T00:00:00",
          "2000-12-01T00:00:00",
          "2001-01-01T00:00:00",
          "2001-02-01T00:00:00",
          "2001-03-01T00:00:00",
          "2001-04-01T00:00:00",
          "2001-05-01T00:00:00",
          "2001-06-01T00:00:00",
          "2001-07-01T00:00:00",
          "2001-08-01T00:00:00",
          "2001-09-01T00:00:00",
          "2001-10-01T00:00:00",
          "2001-11-01T00:00:00",
          "2001-12-01T00:00:00",
          "2002-01-01T00:00:00",
          "2002-02-01T00:00:00",
          "2002-03-01T00:00:00",
          "2002-04-01T00:00:00",
          "2002-05-01T00:00:00",
          "2002-06-01T00:00:00",
          "2002-07-01T00:00:00",
          "2002-08-01T00:00:00",
          "2002-09-01T00:00:00",
          "2002-10-01T00:00:00",
          "2002-11-01T00:00:00",
          "2002-12-01T00:00:00",
          "2003-01-01T00:00:00",
          "2003-02-01T00:00:00",
          "2003-03-01T00:00:00",
          "2003-04-01T00:00:00",
          "2003-05-01T00:00:00",
          "2003-06-01T00:00:00",
          "2003-07-01T00:00:00",
          "2003-08-01T00:00:00",
          "2003-09-01T00:00:00",
          "2003-10-01T00:00:00",
          "2003-11-01T00:00:00",
          "2003-12-01T00:00:00",
          "2004-01-01T00:00:00",
          "2004-02-01T00:00:00",
          "2004-03-01T00:00:00",
          "2004-04-01T00:00:00",
          "2004-05-01T00:00:00",
          "2004-06-01T00:00:00",
          "2004-07-01T00:00:00",
          "2004-08-01T00:00:00",
          "2004-09-01T00:00:00",
          "2004-10-01T00:00:00",
          "2004-11-01T00:00:00",
          "2004-12-01T00:00:00",
          "2005-01-01T00:00:00",
          "2005-02-01T00:00:00",
          "2005-03-01T00:00:00",
          "2005-04-01T00:00:00",
          "2005-05-01T00:00:00",
          "2005-06-01T00:00:00",
          "2005-07-01T00:00:00",
          "2005-08-01T00:00:00",
          "2005-09-01T00:00:00",
          "2005-10-01T00:00:00",
          "2005-11-01T00:00:00",
          "2005-12-01T00:00:00",
          "2006-01-01T00:00:00",
          "2006-02-01T00:00:00",
          "2006-03-01T00:00:00",
          "2006-04-01T00:00:00",
          "2006-05-01T00:00:00",
          "2006-06-01T00:00:00",
          "2006-07-01T00:00:00",
          "2006-08-01T00:00:00",
          "2006-09-01T00:00:00",
          "2006-10-01T00:00:00",
          "2006-11-01T00:00:00",
          "2006-12-01T00:00:00",
          "2007-01-01T00:00:00",
          "2007-02-01T00:00:00",
          "2007-03-01T00:00:00",
          "2007-04-01T00:00:00",
          "2007-05-01T00:00:00",
          "2007-06-01T00:00:00",
          "2007-07-01T00:00:00",
          "2007-08-01T00:00:00",
          "2007-09-01T00:00:00",
          "2007-10-01T00:00:00",
          "2007-11-01T00:00:00",
          "2007-12-01T00:00:00",
          "2008-01-01T00:00:00",
          "2008-02-01T00:00:00",
          "2008-03-01T00:00:00",
          "2008-04-01T00:00:00",
          "2008-05-01T00:00:00",
          "2008-06-01T00:00:00",
          "2008-07-01T00:00:00",
          "2008-08-01T00:00:00",
          "2008-09-01T00:00:00",
          "2008-10-01T00:00:00",
          "2008-11-01T00:00:00",
          "2008-12-01T00:00:00",
          "2009-01-01T00:00:00",
          "2009-02-01T00:00:00",
          "2009-03-01T00:00:00",
          "2009-04-01T00:00:00",
          "2009-05-01T00:00:00",
          "2009-06-01T00:00:00",
          "2009-07-01T00:00:00",
          "2009-08-01T00:00:00",
          "2009-09-01T00:00:00",
          "2009-10-01T00:00:00",
          "2009-11-01T00:00:00",
          "2009-12-01T00:00:00",
          "2010-01-01T00:00:00",
          "2010-02-01T00:00:00",
          "2010-03-01T00:00:00",
          "2010-04-01T00:00:00",
          "2010-05-01T00:00:00",
          "2010-06-01T00:00:00",
          "2010-07-01T00:00:00",
          "2010-08-01T00:00:00",
          "2010-09-01T00:00:00",
          "2010-10-01T00:00:00",
          "2010-11-01T00:00:00",
          "2010-12-01T00:00:00",
          "2011-01-01T00:00:00",
          "2011-02-01T00:00:00",
          "2011-03-01T00:00:00",
          "2011-04-01T00:00:00",
          "2011-05-01T00:00:00",
          "2011-06-01T00:00:00",
          "2011-07-01T00:00:00",
          "2011-08-01T00:00:00",
          "2011-09-01T00:00:00",
          "2011-10-01T00:00:00",
          "2011-11-01T00:00:00",
          "2011-12-01T00:00:00",
          "2012-01-01T00:00:00",
          "2012-02-01T00:00:00",
          "2012-03-01T00:00:00",
          "2012-04-01T00:00:00",
          "2012-05-01T00:00:00",
          "2012-06-01T00:00:00",
          "2012-07-01T00:00:00",
          "2012-08-01T00:00:00",
          "2012-09-01T00:00:00",
          "2012-10-01T00:00:00",
          "2012-11-01T00:00:00",
          "2012-12-01T00:00:00",
          "2013-01-01T00:00:00",
          "2013-02-01T00:00:00",
          "2013-03-01T00:00:00",
          "2013-04-01T00:00:00",
          "2013-05-01T00:00:00",
          "2013-06-01T00:00:00",
          "2013-07-01T00:00:00",
          "2013-08-01T00:00:00",
          "2013-09-01T00:00:00",
          "2013-10-01T00:00:00",
          "2013-11-01T00:00:00",
          "2013-12-01T00:00:00",
          "2014-01-01T00:00:00",
          "2014-02-01T00:00:00",
          "2014-03-01T00:00:00",
          "2014-04-01T00:00:00",
          "2014-05-01T00:00:00",
          "2014-06-01T00:00:00",
          "2014-07-01T00:00:00",
          "2014-08-01T00:00:00",
          "2014-09-01T00:00:00",
          "2014-10-01T00:00:00",
          "2014-11-01T00:00:00",
          "2014-12-01T00:00:00",
          "2015-01-01T00:00:00",
          "2015-02-01T00:00:00",
          "2015-03-01T00:00:00",
          "2015-04-01T00:00:00",
          "2015-05-01T00:00:00",
          "2015-06-01T00:00:00",
          "2015-07-01T00:00:00",
          "2015-08-01T00:00:00",
          "2015-09-01T00:00:00",
          "2015-10-01T00:00:00",
          "2015-11-01T00:00:00",
          "2015-12-01T00:00:00",
          "2016-01-01T00:00:00",
          "2016-02-01T00:00:00",
          "2016-03-01T00:00:00",
          "2016-04-01T00:00:00",
          "2016-05-01T00:00:00",
          "2016-06-01T00:00:00",
          "2016-07-01T00:00:00",
          "2016-08-01T00:00:00",
          "2016-09-01T00:00:00",
          "2016-10-01T00:00:00",
          "2016-11-01T00:00:00",
          "2016-12-01T00:00:00",
          "2017-01-01T00:00:00",
          "2017-02-01T00:00:00",
          "2017-03-01T00:00:00",
          "2017-04-01T00:00:00",
          "2017-05-01T00:00:00",
          "2017-06-01T00:00:00",
          "2017-07-01T00:00:00",
          "2017-08-01T00:00:00",
          "2017-09-01T00:00:00",
          "2017-10-01T00:00:00",
          "2017-11-01T00:00:00",
          "2017-12-01T00:00:00",
          "2018-01-01T00:00:00",
          "2018-02-01T00:00:00",
          "2018-03-01T00:00:00",
          "2018-04-01T00:00:00",
          "2018-05-01T00:00:00",
          "2018-06-01T00:00:00",
          "2018-07-01T00:00:00",
          "2018-08-01T00:00:00",
          "2018-09-01T00:00:00",
          "2018-10-01T00:00:00",
          "2018-11-01T00:00:00",
          "2018-12-01T00:00:00",
          "2019-01-01T00:00:00",
          "2019-02-01T00:00:00",
          "2019-03-01T00:00:00",
          "2019-04-01T00:00:00",
          "2019-05-01T00:00:00",
          "2019-06-01T00:00:00",
          "2019-07-01T00:00:00",
          "2019-08-01T00:00:00",
          "2019-09-01T00:00:00",
          "2019-10-01T00:00:00",
          "2019-11-01T00:00:00",
          "2019-12-01T00:00:00",
          "2020-01-01T00:00:00",
          "2020-02-01T00:00:00",
          "2020-03-01T00:00:00",
          "2020-04-01T00:00:00",
          "2020-05-01T00:00:00",
          "2020-06-01T00:00:00",
          "2020-07-01T00:00:00",
          "2020-08-01T00:00:00",
          "2020-09-01T00:00:00",
          "2020-10-01T00:00:00",
          "2020-11-01T00:00:00",
          "2020-12-01T00:00:00",
          "2021-01-01T00:00:00",
          "2021-02-01T00:00:00",
          "2021-03-01T00:00:00",
          "2021-04-01T00:00:00",
          "2021-05-01T00:00:00",
          "2021-06-01T00:00:00",
          "2021-07-01T00:00:00",
          "2021-08-01T00:00:00",
          "2021-09-01T00:00:00",
          "2021-10-01T00:00:00",
          "2021-11-01T00:00:00",
          "2021-12-01T00:00:00",
          "2022-01-01T00:00:00",
          "2022-02-01T00:00:00",
          "2022-03-01T00:00:00",
          "2022-04-01T00:00:00",
          "2022-05-01T00:00:00",
          "2022-06-01T00:00:00",
          "2022-07-01T00:00:00",
          "2022-08-01T00:00:00",
          "2022-09-01T00:00:00",
          "2022-10-01T00:00:00",
          "2022-11-01T00:00:00",
          "2022-12-01T00:00:00",
          "2023-01-01T00:00:00",
          "2023-02-01T00:00:00"
         ],
         "xaxis": "x",
         "y": [
          52.4,
          52.9,
          53.1,
          54.4,
          55,
          55.2,
          55.2,
          55.7,
          56.2,
          56.7,
          56.9,
          57,
          57,
          57.2,
          57.5,
          58.7,
          59.2,
          59.5,
          59.3,
          59.9,
          60.1,
          60.4,
          60.5,
          60.7,
          60.5,
          60.8,
          61.1,
          61.8,
          62.2,
          62.2,
          62,
          62.1,
          62.3,
          62.5,
          62.5,
          62.6,
          62.4,
          62.7,
          63,
          63.4,
          63.6,
          63.6,
          63.4,
          63.7,
          64,
          64,
          63.8,
          64,
          64,
          64.2,
          64.4,
          64.9,
          65.1,
          65.1,
          64.7,
          65.1,
          65.2,
          65.1,
          65.2,
          65.5,
          65.5,
          65.7,
          66,
          66.4,
          66.7,
          66.8,
          66.6,
          66.9,
          67.2,
          67.1,
          67.1,
          67.5,
          67.4,
          67.7,
          67.9,
          68.3,
          68.6,
          68.7,
          68.3,
          68.7,
          69,
          69.1,
          69.2,
          69.4,
          69.2,
          69.3,
          69.4,
          69.7,
          70,
          70.1,
          70,
          70.3,
          70.5,
          70.6,
          70.6,
          70.7,
          70.4,
          70.6,
          70.8,
          71.2,
          71.5,
          71.4,
          71.2,
          71.4,
          71.7,
          71.7,
          71.8,
          72,
          71.8,
          71.9,
          72.3,
          72.6,
          72.8,
          72.7,
          72.4,
          72.6,
          72.8,
          72.8,
          72.9,
          73.1,
          72.6,
          72.8,
          73,
          73.3,
          73.5,
          73.6,
          73.3,
          73.3,
          73.8,
          73.8,
          74,
          74,
          73.5,
          73.7,
          73.9,
          74.4,
          74.9,
          75,
          74.5,
          74.8,
          75,
          74.9,
          74.9,
          75,
          74.8,
          75,
          75.2,
          75.6,
          75.8,
          75.8,
          75.6,
          75.8,
          76,
          76.1,
          76.1,
          76.3,
          75.9,
          76.1,
          76.4,
          76.8,
          76.8,
          76.7,
          76.6,
          76.8,
          77,
          77.1,
          77.1,
          77.3,
          77,
          77.2,
          77.3,
          77.6,
          77.9,
          77.9,
          77.7,
          77.9,
          77.9,
          78.1,
          78.3,
          78.6,
          78.3,
          78.5,
          78.8,
          79.1,
          79.4,
          79.4,
          79.5,
          79.7,
          79.9,
          80,
          80,
          80.3,
          80,
          80.2,
          80.4,
          80.9,
          81.3,
          81.5,
          81.5,
          81.8,
          81.9,
          82,
          82.2,
          82.6,
          82.1,
          82.4,
          82.8,
          83.1,
          83.3,
          83.5,
          83.1,
          83.4,
          83.5,
          83.8,
          84.1,
          84.5,
          84.1,
          84.6,
          84.9,
          85.6,
          86.1,
          86.6,
          86.6,
          87.1,
          87.5,
          87.3,
          87.3,
          87.1,
          86.6,
          87.2,
          87.3,
          87.5,
          87.9,
          88.1,
          88,
          88.3,
          88.3,
          88.4,
          88.6,
          88.9,
          88.8,
          89,
          89.4,
          89.9,
          90.1,
          90.2,
          90,
          90.4,
          90.4,
          90.6,
          90.9,
          91.7,
          91.8,
          92.3,
          92.6,
          93.3,
          93.5,
          93.5,
          93.5,
          93.9,
          94.5,
          94.5,
          94.7,
          95,
          94.7,
          95.2,
          95.4,
          95.9,
          95.9,
          95.6,
          95.7,
          96.1,
          96.4,
          96.8,
          97,
          97.3,
          97,
          97.5,
          97.8,
          98,
          98.2,
          98,
          98,
          98.4,
          98.7,
          98.8,
          98.8,
          99.2,
          98.7,
          99.1,
          99.3,
          99.6,
          99.6,
          99.8,
          99.6,
          99.9,
          100,
          100.1,
          99.9,
          99.9,
          99.2,
          99.5,
          99.6,
          99.9,
          100.1,
          100.1,
          100,
          100.3,
          100.2,
          100.3,
          100.3,
          100.4,
          99.9,
          100.1,
          100.4,
          100.6,
          100.8,
          101,
          100.9,
          101.2,
          101.5,
          101.6,
          101.8,
          102.2,
          101.8,
          102.4,
          102.7,
          103.2,
          103.5,
          103.5,
          103.5,
          104,
          104.3,
          104.4,
          104.7,
          105,
          104.5,
          104.9,
          105.1,
          105.5,
          105.9,
          105.9,
          105.9,
          106.5,
          106.6,
          106.7,
          106.9,
          107.1,
          106.4,
          106.8,
          107,
          107.6,
          107.9,
          107.9,
          108,
          108.3,
          108.4,
          108.3,
          108.5,
          108.5,
          108.3,
          108.6,
          108.6,
          108.6,
          108.6,
          108.8,
          109.2,
          108.8,
          109.2,
          109.2,
          109.1,
          109.4,
          109.3,
          109.4,
          109.7,
          110.4,
          111,
          111.4,
          111.4,
          112.1,
          112.4,
          113.4,
          114.1,
          114.7,
          114.6,
          115.4,
          116.5,
          119,
          119.7,
          120.5,
          121.2,
          121.8,
          122.3,
          124.3,
          124.8,
          125.3,
          124.8,
          126
         ],
         "yaxis": "y"
        }
       ],
       "layout": {
        "legend": {
         "tracegroupgap": 0
        },
        "template": {
         "data": {
          "bar": [
           {
            "error_x": {
             "color": "#2a3f5f"
            },
            "error_y": {
             "color": "#2a3f5f"
            },
            "marker": {
             "line": {
              "color": "#E5ECF6",
              "width": 0.5
             },
             "pattern": {
              "fillmode": "overlay",
              "size": 10,
              "solidity": 0.2
             }
            },
            "type": "bar"
           }
          ],
          "barpolar": [
           {
            "marker": {
             "line": {
              "color": "#E5ECF6",
              "width": 0.5
             },
             "pattern": {
              "fillmode": "overlay",
              "size": 10,
              "solidity": 0.2
             }
            },
            "type": "barpolar"
           }
          ],
          "carpet": [
           {
            "aaxis": {
             "endlinecolor": "#2a3f5f",
             "gridcolor": "white",
             "linecolor": "white",
             "minorgridcolor": "white",
             "startlinecolor": "#2a3f5f"
            },
            "baxis": {
             "endlinecolor": "#2a3f5f",
             "gridcolor": "white",
             "linecolor": "white",
             "minorgridcolor": "white",
             "startlinecolor": "#2a3f5f"
            },
            "type": "carpet"
           }
          ],
          "choropleth": [
           {
            "colorbar": {
             "outlinewidth": 0,
             "ticks": ""
            },
            "type": "choropleth"
           }
          ],
          "contour": [
           {
            "colorbar": {
             "outlinewidth": 0,
             "ticks": ""
            },
            "colorscale": [
             [
              0,
              "#0d0887"
             ],
             [
              0.1111111111111111,
              "#46039f"
             ],
             [
              0.2222222222222222,
              "#7201a8"
             ],
             [
              0.3333333333333333,
              "#9c179e"
             ],
             [
              0.4444444444444444,
              "#bd3786"
             ],
             [
              0.5555555555555556,
              "#d8576b"
             ],
             [
              0.6666666666666666,
              "#ed7953"
             ],
             [
              0.7777777777777778,
              "#fb9f3a"
             ],
             [
              0.8888888888888888,
              "#fdca26"
             ],
             [
              1,
              "#f0f921"
             ]
            ],
            "type": "contour"
           }
          ],
          "contourcarpet": [
           {
            "colorbar": {
             "outlinewidth": 0,
             "ticks": ""
            },
            "type": "contourcarpet"
           }
          ],
          "heatmap": [
           {
            "colorbar": {
             "outlinewidth": 0,
             "ticks": ""
            },
            "colorscale": [
             [
              0,
              "#0d0887"
             ],
             [
              0.1111111111111111,
              "#46039f"
             ],
             [
              0.2222222222222222,
              "#7201a8"
             ],
             [
              0.3333333333333333,
              "#9c179e"
             ],
             [
              0.4444444444444444,
              "#bd3786"
             ],
             [
              0.5555555555555556,
              "#d8576b"
             ],
             [
              0.6666666666666666,
              "#ed7953"
             ],
             [
              0.7777777777777778,
              "#fb9f3a"
             ],
             [
              0.8888888888888888,
              "#fdca26"
             ],
             [
              1,
              "#f0f921"
             ]
            ],
            "type": "heatmap"
           }
          ],
          "heatmapgl": [
           {
            "colorbar": {
             "outlinewidth": 0,
             "ticks": ""
            },
            "colorscale": [
             [
              0,
              "#0d0887"
             ],
             [
              0.1111111111111111,
              "#46039f"
             ],
             [
              0.2222222222222222,
              "#7201a8"
             ],
             [
              0.3333333333333333,
              "#9c179e"
             ],
             [
              0.4444444444444444,
              "#bd3786"
             ],
             [
              0.5555555555555556,
              "#d8576b"
             ],
             [
              0.6666666666666666,
              "#ed7953"
             ],
             [
              0.7777777777777778,
              "#fb9f3a"
             ],
             [
              0.8888888888888888,
              "#fdca26"
             ],
             [
              1,
              "#f0f921"
             ]
            ],
            "type": "heatmapgl"
           }
          ],
          "histogram": [
           {
            "marker": {
             "pattern": {
              "fillmode": "overlay",
              "size": 10,
              "solidity": 0.2
             }
            },
            "type": "histogram"
           }
          ],
          "histogram2d": [
           {
            "colorbar": {
             "outlinewidth": 0,
             "ticks": ""
            },
            "colorscale": [
             [
              0,
              "#0d0887"
             ],
             [
              0.1111111111111111,
              "#46039f"
             ],
             [
              0.2222222222222222,
              "#7201a8"
             ],
             [
              0.3333333333333333,
              "#9c179e"
             ],
             [
              0.4444444444444444,
              "#bd3786"
             ],
             [
              0.5555555555555556,
              "#d8576b"
             ],
             [
              0.6666666666666666,
              "#ed7953"
             ],
             [
              0.7777777777777778,
              "#fb9f3a"
             ],
             [
              0.8888888888888888,
              "#fdca26"
             ],
             [
              1,
              "#f0f921"
             ]
            ],
            "type": "histogram2d"
           }
          ],
          "histogram2dcontour": [
           {
            "colorbar": {
             "outlinewidth": 0,
             "ticks": ""
            },
            "colorscale": [
             [
              0,
              "#0d0887"
             ],
             [
              0.1111111111111111,
              "#46039f"
             ],
             [
              0.2222222222222222,
              "#7201a8"
             ],
             [
              0.3333333333333333,
              "#9c179e"
             ],
             [
              0.4444444444444444,
              "#bd3786"
             ],
             [
              0.5555555555555556,
              "#d8576b"
             ],
             [
              0.6666666666666666,
              "#ed7953"
             ],
             [
              0.7777777777777778,
              "#fb9f3a"
             ],
             [
              0.8888888888888888,
              "#fdca26"
             ],
             [
              1,
              "#f0f921"
             ]
            ],
            "type": "histogram2dcontour"
           }
          ],
          "mesh3d": [
           {
            "colorbar": {
             "outlinewidth": 0,
             "ticks": ""
            },
            "type": "mesh3d"
           }
          ],
          "parcoords": [
           {
            "line": {
             "colorbar": {
              "outlinewidth": 0,
              "ticks": ""
             }
            },
            "type": "parcoords"
           }
          ],
          "pie": [
           {
            "automargin": true,
            "type": "pie"
           }
          ],
          "scatter": [
           {
            "fillpattern": {
             "fillmode": "overlay",
             "size": 10,
             "solidity": 0.2
            },
            "type": "scatter"
           }
          ],
          "scatter3d": [
           {
            "line": {
             "colorbar": {
              "outlinewidth": 0,
              "ticks": ""
             }
            },
            "marker": {
             "colorbar": {
              "outlinewidth": 0,
              "ticks": ""
             }
            },
            "type": "scatter3d"
           }
          ],
          "scattercarpet": [
           {
            "marker": {
             "colorbar": {
              "outlinewidth": 0,
              "ticks": ""
             }
            },
            "type": "scattercarpet"
           }
          ],
          "scattergeo": [
           {
            "marker": {
             "colorbar": {
              "outlinewidth": 0,
              "ticks": ""
             }
            },
            "type": "scattergeo"
           }
          ],
          "scattergl": [
           {
            "marker": {
             "colorbar": {
              "outlinewidth": 0,
              "ticks": ""
             }
            },
            "type": "scattergl"
           }
          ],
          "scattermapbox": [
           {
            "marker": {
             "colorbar": {
              "outlinewidth": 0,
              "ticks": ""
             }
            },
            "type": "scattermapbox"
           }
          ],
          "scatterpolar": [
           {
            "marker": {
             "colorbar": {
              "outlinewidth": 0,
              "ticks": ""
             }
            },
            "type": "scatterpolar"
           }
          ],
          "scatterpolargl": [
           {
            "marker": {
             "colorbar": {
              "outlinewidth": 0,
              "ticks": ""
             }
            },
            "type": "scatterpolargl"
           }
          ],
          "scatterternary": [
           {
            "marker": {
             "colorbar": {
              "outlinewidth": 0,
              "ticks": ""
             }
            },
            "type": "scatterternary"
           }
          ],
          "surface": [
           {
            "colorbar": {
             "outlinewidth": 0,
             "ticks": ""
            },
            "colorscale": [
             [
              0,
              "#0d0887"
             ],
             [
              0.1111111111111111,
              "#46039f"
             ],
             [
              0.2222222222222222,
              "#7201a8"
             ],
             [
              0.3333333333333333,
              "#9c179e"
             ],
             [
              0.4444444444444444,
              "#bd3786"
             ],
             [
              0.5555555555555556,
              "#d8576b"
             ],
             [
              0.6666666666666666,
              "#ed7953"
             ],
             [
              0.7777777777777778,
              "#fb9f3a"
             ],
             [
              0.8888888888888888,
              "#fdca26"
             ],
             [
              1,
              "#f0f921"
             ]
            ],
            "type": "surface"
           }
          ],
          "table": [
           {
            "cells": {
             "fill": {
              "color": "#EBF0F8"
             },
             "line": {
              "color": "white"
             }
            },
            "header": {
             "fill": {
              "color": "#C8D4E3"
             },
             "line": {
              "color": "white"
             }
            },
            "type": "table"
           }
          ]
         },
         "layout": {
          "annotationdefaults": {
           "arrowcolor": "#2a3f5f",
           "arrowhead": 0,
           "arrowwidth": 1
          },
          "autotypenumbers": "strict",
          "coloraxis": {
           "colorbar": {
            "outlinewidth": 0,
            "ticks": ""
           }
          },
          "colorscale": {
           "diverging": [
            [
             0,
             "#8e0152"
            ],
            [
             0.1,
             "#c51b7d"
            ],
            [
             0.2,
             "#de77ae"
            ],
            [
             0.3,
             "#f1b6da"
            ],
            [
             0.4,
             "#fde0ef"
            ],
            [
             0.5,
             "#f7f7f7"
            ],
            [
             0.6,
             "#e6f5d0"
            ],
            [
             0.7,
             "#b8e186"
            ],
            [
             0.8,
             "#7fbc41"
            ],
            [
             0.9,
             "#4d9221"
            ],
            [
             1,
             "#276419"
            ]
           ],
           "sequential": [
            [
             0,
             "#0d0887"
            ],
            [
             0.1111111111111111,
             "#46039f"
            ],
            [
             0.2222222222222222,
             "#7201a8"
            ],
            [
             0.3333333333333333,
             "#9c179e"
            ],
            [
             0.4444444444444444,
             "#bd3786"
            ],
            [
             0.5555555555555556,
             "#d8576b"
            ],
            [
             0.6666666666666666,
             "#ed7953"
            ],
            [
             0.7777777777777778,
             "#fb9f3a"
            ],
            [
             0.8888888888888888,
             "#fdca26"
            ],
            [
             1,
             "#f0f921"
            ]
           ],
           "sequentialminus": [
            [
             0,
             "#0d0887"
            ],
            [
             0.1111111111111111,
             "#46039f"
            ],
            [
             0.2222222222222222,
             "#7201a8"
            ],
            [
             0.3333333333333333,
             "#9c179e"
            ],
            [
             0.4444444444444444,
             "#bd3786"
            ],
            [
             0.5555555555555556,
             "#d8576b"
            ],
            [
             0.6666666666666666,
             "#ed7953"
            ],
            [
             0.7777777777777778,
             "#fb9f3a"
            ],
            [
             0.8888888888888888,
             "#fdca26"
            ],
            [
             1,
             "#f0f921"
            ]
           ]
          },
          "colorway": [
           "#636efa",
           "#EF553B",
           "#00cc96",
           "#ab63fa",
           "#FFA15A",
           "#19d3f3",
           "#FF6692",
           "#B6E880",
           "#FF97FF",
           "#FECB52"
          ],
          "font": {
           "color": "#2a3f5f"
          },
          "geo": {
           "bgcolor": "white",
           "lakecolor": "white",
           "landcolor": "#E5ECF6",
           "showlakes": true,
           "showland": true,
           "subunitcolor": "white"
          },
          "hoverlabel": {
           "align": "left"
          },
          "hovermode": "closest",
          "mapbox": {
           "style": "light"
          },
          "paper_bgcolor": "white",
          "plot_bgcolor": "#E5ECF6",
          "polar": {
           "angularaxis": {
            "gridcolor": "white",
            "linecolor": "white",
            "ticks": ""
           },
           "bgcolor": "#E5ECF6",
           "radialaxis": {
            "gridcolor": "white",
            "linecolor": "white",
            "ticks": ""
           }
          },
          "scene": {
           "xaxis": {
            "backgroundcolor": "#E5ECF6",
            "gridcolor": "white",
            "gridwidth": 2,
            "linecolor": "white",
            "showbackground": true,
            "ticks": "",
            "zerolinecolor": "white"
           },
           "yaxis": {
            "backgroundcolor": "#E5ECF6",
            "gridcolor": "white",
            "gridwidth": 2,
            "linecolor": "white",
            "showbackground": true,
            "ticks": "",
            "zerolinecolor": "white"
           },
           "zaxis": {
            "backgroundcolor": "#E5ECF6",
            "gridcolor": "white",
            "gridwidth": 2,
            "linecolor": "white",
            "showbackground": true,
            "ticks": "",
            "zerolinecolor": "white"
           }
          },
          "shapedefaults": {
           "line": {
            "color": "#2a3f5f"
           }
          },
          "ternary": {
           "aaxis": {
            "gridcolor": "white",
            "linecolor": "white",
            "ticks": ""
           },
           "baxis": {
            "gridcolor": "white",
            "linecolor": "white",
            "ticks": ""
           },
           "bgcolor": "#E5ECF6",
           "caxis": {
            "gridcolor": "white",
            "linecolor": "white",
            "ticks": ""
           }
          },
          "title": {
           "x": 0.05
          },
          "xaxis": {
           "automargin": true,
           "gridcolor": "white",
           "linecolor": "white",
           "ticks": "",
           "title": {
            "standoff": 15
           },
           "zerolinecolor": "white",
           "zerolinewidth": 2
          },
          "yaxis": {
           "automargin": true,
           "gridcolor": "white",
           "linecolor": "white",
           "ticks": "",
           "title": {
            "standoff": 15
           },
           "zerolinecolor": "white",
           "zerolinewidth": 2
          }
         }
        },
        "title": {
         "text": "CPI avg from 1990 to 2023"
        },
        "xaxis": {
         "anchor": "y",
         "domain": [
          0,
          1
         ],
         "title": {
          "text": "index"
         }
        },
        "yaxis": {
         "anchor": "x",
         "domain": [
          0,
          1
         ],
         "title": {
          "text": "values"
         }
        }
       }
      }
     },
     "metadata": {},
     "output_type": "display_data"
    }
   ],
   "source": [
    "fig=px.line(df2,x='index', y='values', title='CPI avg from 1990 to 2023')\n",
    "fig.show()"
   ]
  },
  {
   "cell_type": "code",
   "execution_count": 34,
   "metadata": {},
   "outputs": [
    {
     "data": {
      "text/html": [
       "<div>\n",
       "<style scoped>\n",
       "    .dataframe tbody tr th:only-of-type {\n",
       "        vertical-align: middle;\n",
       "    }\n",
       "\n",
       "    .dataframe tbody tr th {\n",
       "        vertical-align: top;\n",
       "    }\n",
       "\n",
       "    .dataframe thead th {\n",
       "        text-align: right;\n",
       "    }\n",
       "</style>\n",
       "<table border=\"1\" class=\"dataframe\">\n",
       "  <thead>\n",
       "    <tr style=\"text-align: right;\">\n",
       "      <th></th>\n",
       "      <th>ds</th>\n",
       "      <th>y</th>\n",
       "    </tr>\n",
       "  </thead>\n",
       "  <tbody>\n",
       "    <tr>\n",
       "      <th>420</th>\n",
       "      <td>1990-01-01</td>\n",
       "      <td>52.4</td>\n",
       "    </tr>\n",
       "    <tr>\n",
       "      <th>421</th>\n",
       "      <td>1990-02-01</td>\n",
       "      <td>52.9</td>\n",
       "    </tr>\n",
       "    <tr>\n",
       "      <th>422</th>\n",
       "      <td>1990-03-01</td>\n",
       "      <td>53.1</td>\n",
       "    </tr>\n",
       "    <tr>\n",
       "      <th>423</th>\n",
       "      <td>1990-04-01</td>\n",
       "      <td>54.4</td>\n",
       "    </tr>\n",
       "    <tr>\n",
       "      <th>424</th>\n",
       "      <td>1990-05-01</td>\n",
       "      <td>55.0</td>\n",
       "    </tr>\n",
       "    <tr>\n",
       "      <th>...</th>\n",
       "      <td>...</td>\n",
       "      <td>...</td>\n",
       "    </tr>\n",
       "    <tr>\n",
       "      <th>813</th>\n",
       "      <td>2022-10-01</td>\n",
       "      <td>124.3</td>\n",
       "    </tr>\n",
       "    <tr>\n",
       "      <th>814</th>\n",
       "      <td>2022-11-01</td>\n",
       "      <td>124.8</td>\n",
       "    </tr>\n",
       "    <tr>\n",
       "      <th>815</th>\n",
       "      <td>2022-12-01</td>\n",
       "      <td>125.3</td>\n",
       "    </tr>\n",
       "    <tr>\n",
       "      <th>816</th>\n",
       "      <td>2023-01-01</td>\n",
       "      <td>124.8</td>\n",
       "    </tr>\n",
       "    <tr>\n",
       "      <th>817</th>\n",
       "      <td>2023-02-01</td>\n",
       "      <td>126.0</td>\n",
       "    </tr>\n",
       "  </tbody>\n",
       "</table>\n",
       "<p>398 rows × 2 columns</p>\n",
       "</div>"
      ],
      "text/plain": [
       "            ds      y\n",
       "420 1990-01-01   52.4\n",
       "421 1990-02-01   52.9\n",
       "422 1990-03-01   53.1\n",
       "423 1990-04-01   54.4\n",
       "424 1990-05-01   55.0\n",
       "..         ...    ...\n",
       "813 2022-10-01  124.3\n",
       "814 2022-11-01  124.8\n",
       "815 2022-12-01  125.3\n",
       "816 2023-01-01  124.8\n",
       "817 2023-02-01  126.0\n",
       "\n",
       "[398 rows x 2 columns]"
      ]
     },
     "execution_count": 34,
     "metadata": {},
     "output_type": "execute_result"
    }
   ],
   "source": [
    "###Prophet model \n",
    "##Univariate Data\n",
    "##Rename Columns\n",
    "df2=df2.rename(columns={'index' : 'ds', 'values':'y'})\n",
    "df2"
   ]
  },
  {
   "cell_type": "code",
   "execution_count": 35,
   "metadata": {},
   "outputs": [
    {
     "name": "stderr",
     "output_type": "stream",
     "text": [
      "13:02:25 - cmdstanpy - INFO - Chain [1] start processing\n",
      "13:02:31 - cmdstanpy - INFO - Chain [1] done processing\n"
     ]
    },
    {
     "data": {
      "text/plain": [
       "<prophet.forecaster.Prophet at 0x2125850ebc0>"
      ]
     },
     "execution_count": 35,
     "metadata": {},
     "output_type": "execute_result"
    }
   ],
   "source": [
    "model_ml=Prophet()\n",
    "model_ml.fit(df2)"
   ]
  },
  {
   "cell_type": "code",
   "execution_count": 46,
   "metadata": {},
   "outputs": [],
   "source": [
    "future=model_ml.make_future_dataframe(periods=40,freq='MS')##if weekly ='W"
   ]
  },
  {
   "cell_type": "code",
   "execution_count": 47,
   "metadata": {},
   "outputs": [
    {
     "data": {
      "text/html": [
       "<div>\n",
       "<style scoped>\n",
       "    .dataframe tbody tr th:only-of-type {\n",
       "        vertical-align: middle;\n",
       "    }\n",
       "\n",
       "    .dataframe tbody tr th {\n",
       "        vertical-align: top;\n",
       "    }\n",
       "\n",
       "    .dataframe thead th {\n",
       "        text-align: right;\n",
       "    }\n",
       "</style>\n",
       "<table border=\"1\" class=\"dataframe\">\n",
       "  <thead>\n",
       "    <tr style=\"text-align: right;\">\n",
       "      <th></th>\n",
       "      <th>ds</th>\n",
       "    </tr>\n",
       "  </thead>\n",
       "  <tbody>\n",
       "    <tr>\n",
       "      <th>433</th>\n",
       "      <td>2026-02-01</td>\n",
       "    </tr>\n",
       "    <tr>\n",
       "      <th>434</th>\n",
       "      <td>2026-03-01</td>\n",
       "    </tr>\n",
       "    <tr>\n",
       "      <th>435</th>\n",
       "      <td>2026-04-01</td>\n",
       "    </tr>\n",
       "    <tr>\n",
       "      <th>436</th>\n",
       "      <td>2026-05-01</td>\n",
       "    </tr>\n",
       "    <tr>\n",
       "      <th>437</th>\n",
       "      <td>2026-06-01</td>\n",
       "    </tr>\n",
       "  </tbody>\n",
       "</table>\n",
       "</div>"
      ],
      "text/plain": [
       "            ds\n",
       "433 2026-02-01\n",
       "434 2026-03-01\n",
       "435 2026-04-01\n",
       "436 2026-05-01\n",
       "437 2026-06-01"
      ]
     },
     "execution_count": 47,
     "metadata": {},
     "output_type": "execute_result"
    }
   ],
   "source": [
    "future.tail()##Now we have our future data on a montly basis "
   ]
  },
  {
   "cell_type": "code",
   "execution_count": 48,
   "metadata": {},
   "outputs": [
    {
     "data": {
      "text/html": [
       "<div>\n",
       "<style scoped>\n",
       "    .dataframe tbody tr th:only-of-type {\n",
       "        vertical-align: middle;\n",
       "    }\n",
       "\n",
       "    .dataframe tbody tr th {\n",
       "        vertical-align: top;\n",
       "    }\n",
       "\n",
       "    .dataframe thead th {\n",
       "        text-align: right;\n",
       "    }\n",
       "</style>\n",
       "<table border=\"1\" class=\"dataframe\">\n",
       "  <thead>\n",
       "    <tr style=\"text-align: right;\">\n",
       "      <th></th>\n",
       "      <th>ds</th>\n",
       "      <th>trend</th>\n",
       "      <th>yhat_lower</th>\n",
       "      <th>yhat_upper</th>\n",
       "      <th>trend_lower</th>\n",
       "      <th>trend_upper</th>\n",
       "      <th>additive_terms</th>\n",
       "      <th>additive_terms_lower</th>\n",
       "      <th>additive_terms_upper</th>\n",
       "      <th>yearly</th>\n",
       "      <th>yearly_lower</th>\n",
       "      <th>yearly_upper</th>\n",
       "      <th>multiplicative_terms</th>\n",
       "      <th>multiplicative_terms_lower</th>\n",
       "      <th>multiplicative_terms_upper</th>\n",
       "      <th>yhat</th>\n",
       "    </tr>\n",
       "  </thead>\n",
       "  <tbody>\n",
       "    <tr>\n",
       "      <th>0</th>\n",
       "      <td>1990-01-01</td>\n",
       "      <td>54.169794</td>\n",
       "      <td>52.350371</td>\n",
       "      <td>55.226709</td>\n",
       "      <td>54.169794</td>\n",
       "      <td>54.169794</td>\n",
       "      <td>-0.403229</td>\n",
       "      <td>-0.403229</td>\n",
       "      <td>-0.403229</td>\n",
       "      <td>-0.403229</td>\n",
       "      <td>-0.403229</td>\n",
       "      <td>-0.403229</td>\n",
       "      <td>0.0</td>\n",
       "      <td>0.0</td>\n",
       "      <td>0.0</td>\n",
       "      <td>53.766565</td>\n",
       "    </tr>\n",
       "    <tr>\n",
       "      <th>1</th>\n",
       "      <td>1990-02-01</td>\n",
       "      <td>54.438855</td>\n",
       "      <td>52.702356</td>\n",
       "      <td>55.710167</td>\n",
       "      <td>54.438855</td>\n",
       "      <td>54.438855</td>\n",
       "      <td>-0.232247</td>\n",
       "      <td>-0.232247</td>\n",
       "      <td>-0.232247</td>\n",
       "      <td>-0.232247</td>\n",
       "      <td>-0.232247</td>\n",
       "      <td>-0.232247</td>\n",
       "      <td>0.0</td>\n",
       "      <td>0.0</td>\n",
       "      <td>0.0</td>\n",
       "      <td>54.206607</td>\n",
       "    </tr>\n",
       "    <tr>\n",
       "      <th>2</th>\n",
       "      <td>1990-03-01</td>\n",
       "      <td>54.681877</td>\n",
       "      <td>52.819429</td>\n",
       "      <td>55.849839</td>\n",
       "      <td>54.681877</td>\n",
       "      <td>54.681877</td>\n",
       "      <td>-0.363945</td>\n",
       "      <td>-0.363945</td>\n",
       "      <td>-0.363945</td>\n",
       "      <td>-0.363945</td>\n",
       "      <td>-0.363945</td>\n",
       "      <td>-0.363945</td>\n",
       "      <td>0.0</td>\n",
       "      <td>0.0</td>\n",
       "      <td>0.0</td>\n",
       "      <td>54.317932</td>\n",
       "    </tr>\n",
       "    <tr>\n",
       "      <th>3</th>\n",
       "      <td>1990-04-01</td>\n",
       "      <td>54.950938</td>\n",
       "      <td>53.551559</td>\n",
       "      <td>56.460100</td>\n",
       "      <td>54.950938</td>\n",
       "      <td>54.950938</td>\n",
       "      <td>0.041634</td>\n",
       "      <td>0.041634</td>\n",
       "      <td>0.041634</td>\n",
       "      <td>0.041634</td>\n",
       "      <td>0.041634</td>\n",
       "      <td>0.041634</td>\n",
       "      <td>0.0</td>\n",
       "      <td>0.0</td>\n",
       "      <td>0.0</td>\n",
       "      <td>54.992572</td>\n",
       "    </tr>\n",
       "    <tr>\n",
       "      <th>4</th>\n",
       "      <td>1990-05-01</td>\n",
       "      <td>55.211320</td>\n",
       "      <td>54.012264</td>\n",
       "      <td>56.946979</td>\n",
       "      <td>55.211320</td>\n",
       "      <td>55.211320</td>\n",
       "      <td>0.176369</td>\n",
       "      <td>0.176369</td>\n",
       "      <td>0.176369</td>\n",
       "      <td>0.176369</td>\n",
       "      <td>0.176369</td>\n",
       "      <td>0.176369</td>\n",
       "      <td>0.0</td>\n",
       "      <td>0.0</td>\n",
       "      <td>0.0</td>\n",
       "      <td>55.387688</td>\n",
       "    </tr>\n",
       "    <tr>\n",
       "      <th>...</th>\n",
       "      <td>...</td>\n",
       "      <td>...</td>\n",
       "      <td>...</td>\n",
       "      <td>...</td>\n",
       "      <td>...</td>\n",
       "      <td>...</td>\n",
       "      <td>...</td>\n",
       "      <td>...</td>\n",
       "      <td>...</td>\n",
       "      <td>...</td>\n",
       "      <td>...</td>\n",
       "      <td>...</td>\n",
       "      <td>...</td>\n",
       "      <td>...</td>\n",
       "      <td>...</td>\n",
       "      <td>...</td>\n",
       "    </tr>\n",
       "    <tr>\n",
       "      <th>433</th>\n",
       "      <td>2026-02-01</td>\n",
       "      <td>127.636887</td>\n",
       "      <td>125.292426</td>\n",
       "      <td>129.428577</td>\n",
       "      <td>126.348357</td>\n",
       "      <td>128.885067</td>\n",
       "      <td>-0.232247</td>\n",
       "      <td>-0.232247</td>\n",
       "      <td>-0.232247</td>\n",
       "      <td>-0.232247</td>\n",
       "      <td>-0.232247</td>\n",
       "      <td>-0.232247</td>\n",
       "      <td>0.0</td>\n",
       "      <td>0.0</td>\n",
       "      <td>0.0</td>\n",
       "      <td>127.404640</td>\n",
       "    </tr>\n",
       "    <tr>\n",
       "      <th>434</th>\n",
       "      <td>2026-03-01</td>\n",
       "      <td>127.855410</td>\n",
       "      <td>125.313632</td>\n",
       "      <td>129.496674</td>\n",
       "      <td>126.480129</td>\n",
       "      <td>129.150273</td>\n",
       "      <td>-0.363945</td>\n",
       "      <td>-0.363945</td>\n",
       "      <td>-0.363945</td>\n",
       "      <td>-0.363945</td>\n",
       "      <td>-0.363945</td>\n",
       "      <td>-0.363945</td>\n",
       "      <td>0.0</td>\n",
       "      <td>0.0</td>\n",
       "      <td>0.0</td>\n",
       "      <td>127.491465</td>\n",
       "    </tr>\n",
       "    <tr>\n",
       "      <th>435</th>\n",
       "      <td>2026-04-01</td>\n",
       "      <td>128.097347</td>\n",
       "      <td>125.862609</td>\n",
       "      <td>130.285053</td>\n",
       "      <td>126.679148</td>\n",
       "      <td>129.427116</td>\n",
       "      <td>0.041634</td>\n",
       "      <td>0.041634</td>\n",
       "      <td>0.041634</td>\n",
       "      <td>0.041634</td>\n",
       "      <td>0.041634</td>\n",
       "      <td>0.041634</td>\n",
       "      <td>0.0</td>\n",
       "      <td>0.0</td>\n",
       "      <td>0.0</td>\n",
       "      <td>128.138981</td>\n",
       "    </tr>\n",
       "    <tr>\n",
       "      <th>436</th>\n",
       "      <td>2026-05-01</td>\n",
       "      <td>128.331479</td>\n",
       "      <td>126.374586</td>\n",
       "      <td>130.496480</td>\n",
       "      <td>126.869334</td>\n",
       "      <td>129.736942</td>\n",
       "      <td>0.176369</td>\n",
       "      <td>0.176369</td>\n",
       "      <td>0.176369</td>\n",
       "      <td>0.176369</td>\n",
       "      <td>0.176369</td>\n",
       "      <td>0.176369</td>\n",
       "      <td>0.0</td>\n",
       "      <td>0.0</td>\n",
       "      <td>0.0</td>\n",
       "      <td>128.507847</td>\n",
       "    </tr>\n",
       "    <tr>\n",
       "      <th>437</th>\n",
       "      <td>2026-06-01</td>\n",
       "      <td>128.573415</td>\n",
       "      <td>126.377678</td>\n",
       "      <td>130.692909</td>\n",
       "      <td>127.066951</td>\n",
       "      <td>130.034821</td>\n",
       "      <td>0.107342</td>\n",
       "      <td>0.107342</td>\n",
       "      <td>0.107342</td>\n",
       "      <td>0.107342</td>\n",
       "      <td>0.107342</td>\n",
       "      <td>0.107342</td>\n",
       "      <td>0.0</td>\n",
       "      <td>0.0</td>\n",
       "      <td>0.0</td>\n",
       "      <td>128.680757</td>\n",
       "    </tr>\n",
       "  </tbody>\n",
       "</table>\n",
       "<p>438 rows × 16 columns</p>\n",
       "</div>"
      ],
      "text/plain": [
       "            ds       trend  yhat_lower  yhat_upper  trend_lower  trend_upper  \\\n",
       "0   1990-01-01   54.169794   52.350371   55.226709    54.169794    54.169794   \n",
       "1   1990-02-01   54.438855   52.702356   55.710167    54.438855    54.438855   \n",
       "2   1990-03-01   54.681877   52.819429   55.849839    54.681877    54.681877   \n",
       "3   1990-04-01   54.950938   53.551559   56.460100    54.950938    54.950938   \n",
       "4   1990-05-01   55.211320   54.012264   56.946979    55.211320    55.211320   \n",
       "..         ...         ...         ...         ...          ...          ...   \n",
       "433 2026-02-01  127.636887  125.292426  129.428577   126.348357   128.885067   \n",
       "434 2026-03-01  127.855410  125.313632  129.496674   126.480129   129.150273   \n",
       "435 2026-04-01  128.097347  125.862609  130.285053   126.679148   129.427116   \n",
       "436 2026-05-01  128.331479  126.374586  130.496480   126.869334   129.736942   \n",
       "437 2026-06-01  128.573415  126.377678  130.692909   127.066951   130.034821   \n",
       "\n",
       "     additive_terms  additive_terms_lower  additive_terms_upper    yearly  \\\n",
       "0         -0.403229             -0.403229             -0.403229 -0.403229   \n",
       "1         -0.232247             -0.232247             -0.232247 -0.232247   \n",
       "2         -0.363945             -0.363945             -0.363945 -0.363945   \n",
       "3          0.041634              0.041634              0.041634  0.041634   \n",
       "4          0.176369              0.176369              0.176369  0.176369   \n",
       "..              ...                   ...                   ...       ...   \n",
       "433       -0.232247             -0.232247             -0.232247 -0.232247   \n",
       "434       -0.363945             -0.363945             -0.363945 -0.363945   \n",
       "435        0.041634              0.041634              0.041634  0.041634   \n",
       "436        0.176369              0.176369              0.176369  0.176369   \n",
       "437        0.107342              0.107342              0.107342  0.107342   \n",
       "\n",
       "     yearly_lower  yearly_upper  multiplicative_terms  \\\n",
       "0       -0.403229     -0.403229                   0.0   \n",
       "1       -0.232247     -0.232247                   0.0   \n",
       "2       -0.363945     -0.363945                   0.0   \n",
       "3        0.041634      0.041634                   0.0   \n",
       "4        0.176369      0.176369                   0.0   \n",
       "..            ...           ...                   ...   \n",
       "433     -0.232247     -0.232247                   0.0   \n",
       "434     -0.363945     -0.363945                   0.0   \n",
       "435      0.041634      0.041634                   0.0   \n",
       "436      0.176369      0.176369                   0.0   \n",
       "437      0.107342      0.107342                   0.0   \n",
       "\n",
       "     multiplicative_terms_lower  multiplicative_terms_upper        yhat  \n",
       "0                           0.0                         0.0   53.766565  \n",
       "1                           0.0                         0.0   54.206607  \n",
       "2                           0.0                         0.0   54.317932  \n",
       "3                           0.0                         0.0   54.992572  \n",
       "4                           0.0                         0.0   55.387688  \n",
       "..                          ...                         ...         ...  \n",
       "433                         0.0                         0.0  127.404640  \n",
       "434                         0.0                         0.0  127.491465  \n",
       "435                         0.0                         0.0  128.138981  \n",
       "436                         0.0                         0.0  128.507847  \n",
       "437                         0.0                         0.0  128.680757  \n",
       "\n",
       "[438 rows x 16 columns]"
      ]
     },
     "execution_count": 48,
     "metadata": {},
     "output_type": "execute_result"
    }
   ],
   "source": [
    "result=model_ml.predict(future)\n",
    "result\n",
    "###predicted value yhat. \n",
    "##Ranges =yhat lower and yhat upper "
   ]
  },
  {
   "cell_type": "code",
   "execution_count": 49,
   "metadata": {},
   "outputs": [
    {
     "name": "stderr",
     "output_type": "stream",
     "text": [
      "C:\\Users\\brill\\AppData\\Local\\Temp\\ipykernel_13448\\3534893199.py:2: FutureWarning:\n",
      "\n",
      "Passing a set as an indexer is deprecated and will raise in a future version. Use a list instead.\n",
      "\n"
     ]
    },
    {
     "data": {
      "text/html": [
       "<div>\n",
       "<style scoped>\n",
       "    .dataframe tbody tr th:only-of-type {\n",
       "        vertical-align: middle;\n",
       "    }\n",
       "\n",
       "    .dataframe tbody tr th {\n",
       "        vertical-align: top;\n",
       "    }\n",
       "\n",
       "    .dataframe thead th {\n",
       "        text-align: right;\n",
       "    }\n",
       "</style>\n",
       "<table border=\"1\" class=\"dataframe\">\n",
       "  <thead>\n",
       "    <tr style=\"text-align: right;\">\n",
       "      <th></th>\n",
       "      <th>ds</th>\n",
       "      <th>yhat_lower</th>\n",
       "      <th>yhat</th>\n",
       "      <th>yhat_upper</th>\n",
       "    </tr>\n",
       "  </thead>\n",
       "  <tbody>\n",
       "    <tr>\n",
       "      <th>0</th>\n",
       "      <td>1990-01-01</td>\n",
       "      <td>52.235876</td>\n",
       "      <td>53.766565</td>\n",
       "      <td>55.232991</td>\n",
       "    </tr>\n",
       "    <tr>\n",
       "      <th>1</th>\n",
       "      <td>1990-02-01</td>\n",
       "      <td>52.590240</td>\n",
       "      <td>54.206607</td>\n",
       "      <td>55.656305</td>\n",
       "    </tr>\n",
       "    <tr>\n",
       "      <th>2</th>\n",
       "      <td>1990-03-01</td>\n",
       "      <td>52.846118</td>\n",
       "      <td>54.317932</td>\n",
       "      <td>55.762077</td>\n",
       "    </tr>\n",
       "    <tr>\n",
       "      <th>3</th>\n",
       "      <td>1990-04-01</td>\n",
       "      <td>53.556643</td>\n",
       "      <td>54.992572</td>\n",
       "      <td>56.533681</td>\n",
       "    </tr>\n",
       "    <tr>\n",
       "      <th>4</th>\n",
       "      <td>1990-05-01</td>\n",
       "      <td>53.801863</td>\n",
       "      <td>55.387688</td>\n",
       "      <td>56.983973</td>\n",
       "    </tr>\n",
       "    <tr>\n",
       "      <th>...</th>\n",
       "      <td>...</td>\n",
       "      <td>...</td>\n",
       "      <td>...</td>\n",
       "      <td>...</td>\n",
       "    </tr>\n",
       "    <tr>\n",
       "      <th>433</th>\n",
       "      <td>2026-02-01</td>\n",
       "      <td>125.525938</td>\n",
       "      <td>127.404640</td>\n",
       "      <td>129.342123</td>\n",
       "    </tr>\n",
       "    <tr>\n",
       "      <th>434</th>\n",
       "      <td>2026-03-01</td>\n",
       "      <td>125.365070</td>\n",
       "      <td>127.491465</td>\n",
       "      <td>129.559871</td>\n",
       "    </tr>\n",
       "    <tr>\n",
       "      <th>435</th>\n",
       "      <td>2026-04-01</td>\n",
       "      <td>125.976091</td>\n",
       "      <td>128.138981</td>\n",
       "      <td>130.067307</td>\n",
       "    </tr>\n",
       "    <tr>\n",
       "      <th>436</th>\n",
       "      <td>2026-05-01</td>\n",
       "      <td>126.512179</td>\n",
       "      <td>128.507847</td>\n",
       "      <td>130.557493</td>\n",
       "    </tr>\n",
       "    <tr>\n",
       "      <th>437</th>\n",
       "      <td>2026-06-01</td>\n",
       "      <td>126.546460</td>\n",
       "      <td>128.680757</td>\n",
       "      <td>130.818461</td>\n",
       "    </tr>\n",
       "  </tbody>\n",
       "</table>\n",
       "<p>438 rows × 4 columns</p>\n",
       "</div>"
      ],
      "text/plain": [
       "            ds  yhat_lower        yhat  yhat_upper\n",
       "0   1990-01-01   52.235876   53.766565   55.232991\n",
       "1   1990-02-01   52.590240   54.206607   55.656305\n",
       "2   1990-03-01   52.846118   54.317932   55.762077\n",
       "3   1990-04-01   53.556643   54.992572   56.533681\n",
       "4   1990-05-01   53.801863   55.387688   56.983973\n",
       "..         ...         ...         ...         ...\n",
       "433 2026-02-01  125.525938  127.404640  129.342123\n",
       "434 2026-03-01  125.365070  127.491465  129.559871\n",
       "435 2026-04-01  125.976091  128.138981  130.067307\n",
       "436 2026-05-01  126.512179  128.507847  130.557493\n",
       "437 2026-06-01  126.546460  128.680757  130.818461\n",
       "\n",
       "[438 rows x 4 columns]"
      ]
     },
     "execution_count": 49,
     "metadata": {},
     "output_type": "execute_result"
    }
   ],
   "source": [
    "result=model_ml.predict(future)\n",
    "result[{'ds','yhat', 'yhat_lower', 'yhat_upper'}]"
   ]
  },
  {
   "cell_type": "code",
   "execution_count": 50,
   "metadata": {},
   "outputs": [
    {
     "data": {
      "image/png": "[encoded data removed]",
      "text/plain": [
       "<Figure size 1000x600 with 1 Axes>"
      ]
     },
     "metadata": {},
     "output_type": "display_data"
    }
   ],
   "source": [
    "fig=model_ml.plot(result)\n",
    "##Black line is the actual value and the blue line is the predicted value. "
   ]
  },
  {
   "cell_type": "code",
   "execution_count": 51,
   "metadata": {},
   "outputs": [
    {
     "data": {
      "image/png": "[encoded data removed]",
      "text/plain": [
       "<Figure size 900x600 with 2 Axes>"
      ]
     },
     "metadata": {},
     "output_type": "display_data"
    }
   ],
   "source": [
    "fig2=model_ml.plot_components(result)"
   ]
  },
  {
   "cell_type": "code",
   "execution_count": 54,
   "metadata": {},
   "outputs": [
    {
     "name": "stderr",
     "output_type": "stream",
     "text": [
      "  0%|          | 0/75 [00:00<?, ?it/s]19:37:00 - cmdstanpy - INFO - Chain [1] start processing\n",
      "19:37:10 - cmdstanpy - INFO - Chain [1] done processing\n",
      "  1%|▏         | 1/75 [00:12<15:53, 12.89s/it]19:37:10 - cmdstanpy - INFO - Chain [1] start processing\n",
      "19:38:03 - cmdstanpy - INFO - Chain [1] done processing\n",
      "  3%|▎         | 2/75 [01:06<44:38, 36.69s/it]19:38:04 - cmdstanpy - INFO - Chain [1] start processing\n",
      "19:38:58 - cmdstanpy - INFO - Chain [1] done processing\n",
      "  4%|▍         | 3/75 [02:01<53:59, 44.99s/it]19:38:58 - cmdstanpy - INFO - Chain [1] start processing\n",
      "19:39:57 - cmdstanpy - INFO - Chain [1] done processing\n",
      "  5%|▌         | 4/75 [03:00<59:46, 50.52s/it]19:39:57 - cmdstanpy - INFO - Chain [1] start processing\n",
      "19:41:00 - cmdstanpy - INFO - Chain [1] done processing\n",
      "  7%|▋         | 5/75 [04:03<1:04:18, 55.12s/it]19:41:01 - cmdstanpy - INFO - Chain [1] start processing\n",
      "19:41:02 - cmdstanpy - INFO - Chain [1] done processing\n",
      "  8%|▊         | 6/75 [04:05<42:28, 36.93s/it]  19:41:02 - cmdstanpy - INFO - Chain [1] start processing\n",
      "19:41:03 - cmdstanpy - INFO - Chain [1] done processing\n",
      "  9%|▉         | 7/75 [04:06<28:42, 25.33s/it]19:41:04 - cmdstanpy - INFO - Chain [1] start processing\n",
      "19:41:05 - cmdstanpy - INFO - Chain [1] done processing\n",
      " 11%|█         | 8/75 [04:07<19:45, 17.69s/it]19:41:05 - cmdstanpy - INFO - Chain [1] start processing\n",
      "19:41:06 - cmdstanpy - INFO - Chain [1] done processing\n",
      " 12%|█▏        | 9/75 [04:09<13:53, 12.63s/it]19:41:07 - cmdstanpy - INFO - Chain [1] start processing\n",
      "19:41:08 - cmdstanpy - INFO - Chain [1] done processing\n",
      " 13%|█▎        | 10/75 [04:10<10:01,  9.25s/it]19:41:08 - cmdstanpy - INFO - Chain [1] start processing\n",
      "19:41:10 - cmdstanpy - INFO - Chain [1] done processing\n",
      " 15%|█▍        | 11/75 [04:12<07:22,  6.92s/it]19:41:10 - cmdstanpy - INFO - Chain [1] start processing\n",
      "19:41:11 - cmdstanpy - INFO - Chain [1] done processing\n",
      " 16%|█▌        | 12/75 [04:14<05:39,  5.38s/it]19:41:12 - cmdstanpy - INFO - Chain [1] start processing\n",
      "19:41:13 - cmdstanpy - INFO - Chain [1] done processing\n",
      " 17%|█▋        | 13/75 [04:16<04:25,  4.28s/it]19:41:14 - cmdstanpy - INFO - Chain [1] start processing\n",
      "19:41:15 - cmdstanpy - INFO - Chain [1] done processing\n",
      " 19%|█▊        | 14/75 [04:17<03:33,  3.50s/it]19:41:15 - cmdstanpy - INFO - Chain [1] start processing\n",
      "19:41:17 - cmdstanpy - INFO - Chain [1] done processing\n",
      " 20%|██        | 15/75 [04:19<03:00,  3.02s/it]19:41:17 - cmdstanpy - INFO - Chain [1] start processing\n",
      "19:41:18 - cmdstanpy - INFO - Chain [1] done processing\n",
      " 21%|██▏       | 16/75 [04:21<02:30,  2.56s/it]19:41:19 - cmdstanpy - INFO - Chain [1] start processing\n",
      "19:41:19 - cmdstanpy - INFO - Chain [1] done processing\n",
      " 23%|██▎       | 17/75 [04:21<01:54,  1.97s/it]19:41:19 - cmdstanpy - INFO - Chain [1] start processing\n",
      "19:41:20 - cmdstanpy - INFO - Chain [1] done processing\n",
      " 24%|██▍       | 18/75 [04:22<01:29,  1.57s/it]19:41:20 - cmdstanpy - INFO - Chain [1] start processing\n",
      "19:41:20 - cmdstanpy - INFO - Chain [1] done processing\n",
      " 25%|██▌       | 19/75 [04:23<01:11,  1.28s/it]19:41:20 - cmdstanpy - INFO - Chain [1] start processing\n",
      "19:41:21 - cmdstanpy - INFO - Chain [1] done processing\n",
      " 27%|██▋       | 20/75 [04:23<00:59,  1.08s/it]19:41:21 - cmdstanpy - INFO - Chain [1] start processing\n",
      "19:41:21 - cmdstanpy - INFO - Chain [1] done processing\n",
      " 28%|██▊       | 21/75 [04:24<00:51,  1.05it/s]19:41:22 - cmdstanpy - INFO - Chain [1] start processing\n",
      "19:41:22 - cmdstanpy - INFO - Chain [1] done processing\n",
      " 29%|██▉       | 22/75 [04:25<00:45,  1.15it/s]19:41:22 - cmdstanpy - INFO - Chain [1] start processing\n",
      "19:41:23 - cmdstanpy - INFO - Chain [1] done processing\n",
      " 31%|███       | 23/75 [04:25<00:41,  1.25it/s]19:41:23 - cmdstanpy - INFO - Chain [1] start processing\n",
      "19:41:23 - cmdstanpy - INFO - Chain [1] done processing\n",
      " 32%|███▏      | 24/75 [04:26<00:39,  1.29it/s]19:41:24 - cmdstanpy - INFO - Chain [1] start processing\n",
      "19:41:24 - cmdstanpy - INFO - Chain [1] done processing\n",
      " 33%|███▎      | 25/75 [04:27<00:37,  1.33it/s]19:41:24 - cmdstanpy - INFO - Chain [1] start processing\n",
      "19:41:25 - cmdstanpy - INFO - Chain [1] done processing\n",
      " 35%|███▍      | 26/75 [04:27<00:35,  1.39it/s]19:41:25 - cmdstanpy - INFO - Chain [1] start processing\n",
      "19:41:25 - cmdstanpy - INFO - Chain [1] done processing\n",
      " 36%|███▌      | 27/75 [04:28<00:34,  1.38it/s]19:41:26 - cmdstanpy - INFO - Chain [1] start processing\n",
      "19:41:26 - cmdstanpy - INFO - Chain [1] done processing\n",
      " 37%|███▋      | 28/75 [04:29<00:33,  1.40it/s]19:41:27 - cmdstanpy - INFO - Chain [1] start processing\n",
      "19:41:27 - cmdstanpy - INFO - Chain [1] done processing\n",
      " 39%|███▊      | 29/75 [04:29<00:32,  1.41it/s]19:41:27 - cmdstanpy - INFO - Chain [1] start processing\n",
      "19:41:28 - cmdstanpy - INFO - Chain [1] done processing\n",
      " 40%|████      | 30/75 [04:30<00:30,  1.45it/s]19:41:28 - cmdstanpy - INFO - Chain [1] start processing\n",
      "19:41:28 - cmdstanpy - INFO - Chain [1] done processing\n",
      " 41%|████▏     | 31/75 [04:31<00:31,  1.41it/s]19:41:29 - cmdstanpy - INFO - Chain [1] start processing\n",
      "19:41:29 - cmdstanpy - INFO - Chain [1] done processing\n",
      " 43%|████▎     | 32/75 [04:31<00:29,  1.43it/s]19:41:29 - cmdstanpy - INFO - Chain [1] start processing\n",
      "19:41:30 - cmdstanpy - INFO - Chain [1] done processing\n",
      " 44%|████▍     | 33/75 [04:32<00:30,  1.39it/s]19:41:30 - cmdstanpy - INFO - Chain [1] start processing\n",
      "19:41:30 - cmdstanpy - INFO - Chain [1] done processing\n",
      " 45%|████▌     | 34/75 [04:33<00:29,  1.38it/s]19:41:31 - cmdstanpy - INFO - Chain [1] start processing\n",
      "19:41:31 - cmdstanpy - INFO - Chain [1] done processing\n",
      " 47%|████▋     | 35/75 [04:34<00:28,  1.39it/s]19:41:32 - cmdstanpy - INFO - Chain [1] start processing\n",
      "19:41:32 - cmdstanpy - INFO - Chain [1] done processing\n",
      " 48%|████▊     | 36/75 [04:34<00:28,  1.38it/s]19:41:32 - cmdstanpy - INFO - Chain [1] start processing\n",
      "19:41:33 - cmdstanpy - INFO - Chain [1] done processing\n",
      " 49%|████▉     | 37/75 [04:35<00:28,  1.35it/s]19:41:33 - cmdstanpy - INFO - Chain [1] start processing\n",
      "19:41:33 - cmdstanpy - INFO - Chain [1] done processing\n",
      " 51%|█████     | 38/75 [04:36<00:27,  1.36it/s]19:41:34 - cmdstanpy - INFO - Chain [1] start processing\n",
      "19:41:34 - cmdstanpy - INFO - Chain [1] done processing\n",
      " 52%|█████▏    | 39/75 [04:37<00:26,  1.35it/s]19:41:35 - cmdstanpy - INFO - Chain [1] start processing\n",
      "19:41:35 - cmdstanpy - INFO - Chain [1] done processing\n",
      " 53%|█████▎    | 40/75 [04:38<00:28,  1.24it/s]19:41:36 - cmdstanpy - INFO - Chain [1] start processing\n",
      "19:41:36 - cmdstanpy - INFO - Chain [1] done processing\n",
      " 55%|█████▍    | 41/75 [04:39<00:28,  1.18it/s]19:41:36 - cmdstanpy - INFO - Chain [1] start processing\n",
      "19:41:37 - cmdstanpy - INFO - Chain [1] done processing\n",
      " 56%|█████▌    | 42/75 [04:40<00:28,  1.15it/s]19:41:37 - cmdstanpy - INFO - Chain [1] start processing\n",
      "19:41:38 - cmdstanpy - INFO - Chain [1] done processing\n",
      " 57%|█████▋    | 43/75 [04:40<00:25,  1.26it/s]19:41:38 - cmdstanpy - INFO - Chain [1] start processing\n",
      "19:41:38 - cmdstanpy - INFO - Chain [1] done processing\n",
      " 59%|█████▊    | 44/75 [04:41<00:24,  1.27it/s]19:41:39 - cmdstanpy - INFO - Chain [1] start processing\n",
      "19:41:39 - cmdstanpy - INFO - Chain [1] done processing\n",
      " 60%|██████    | 45/75 [04:42<00:22,  1.32it/s]19:41:39 - cmdstanpy - INFO - Chain [1] start processing\n",
      "19:41:40 - cmdstanpy - INFO - Chain [1] done processing\n",
      " 61%|██████▏   | 46/75 [04:42<00:21,  1.34it/s]19:41:40 - cmdstanpy - INFO - Chain [1] start processing\n",
      "19:41:40 - cmdstanpy - INFO - Chain [1] done processing\n",
      " 63%|██████▎   | 47/75 [04:43<00:20,  1.37it/s]19:41:41 - cmdstanpy - INFO - Chain [1] start processing\n",
      "19:41:41 - cmdstanpy - INFO - Chain [1] done processing\n",
      " 64%|██████▍   | 48/75 [04:44<00:21,  1.25it/s]19:41:42 - cmdstanpy - INFO - Chain [1] start processing\n",
      "19:41:42 - cmdstanpy - INFO - Chain [1] done processing\n",
      " 65%|██████▌   | 49/75 [04:45<00:22,  1.17it/s]19:41:43 - cmdstanpy - INFO - Chain [1] start processing\n",
      "19:41:43 - cmdstanpy - INFO - Chain [1] done processing\n",
      " 67%|██████▋   | 50/75 [04:46<00:20,  1.23it/s]19:41:44 - cmdstanpy - INFO - Chain [1] start processing\n",
      "19:41:44 - cmdstanpy - INFO - Chain [1] done processing\n",
      " 68%|██████▊   | 51/75 [04:46<00:19,  1.24it/s]19:41:44 - cmdstanpy - INFO - Chain [1] start processing\n",
      "19:41:45 - cmdstanpy - INFO - Chain [1] done processing\n",
      " 69%|██████▉   | 52/75 [04:47<00:17,  1.30it/s]19:41:45 - cmdstanpy - INFO - Chain [1] start processing\n",
      "19:41:45 - cmdstanpy - INFO - Chain [1] done processing\n",
      " 71%|███████   | 53/75 [04:48<00:16,  1.33it/s]19:41:46 - cmdstanpy - INFO - Chain [1] start processing\n",
      "19:41:46 - cmdstanpy - INFO - Chain [1] done processing\n",
      " 72%|███████▏  | 54/75 [04:49<00:15,  1.36it/s]19:41:46 - cmdstanpy - INFO - Chain [1] start processing\n",
      "19:41:47 - cmdstanpy - INFO - Chain [1] done processing\n",
      " 73%|███████▎  | 55/75 [04:49<00:15,  1.30it/s]19:41:47 - cmdstanpy - INFO - Chain [1] start processing\n",
      "19:41:48 - cmdstanpy - INFO - Chain [1] done processing\n",
      " 75%|███████▍  | 56/75 [04:50<00:14,  1.30it/s]19:41:48 - cmdstanpy - INFO - Chain [1] start processing\n",
      "19:41:48 - cmdstanpy - INFO - Chain [1] done processing\n",
      " 76%|███████▌  | 57/75 [04:51<00:13,  1.31it/s]19:41:49 - cmdstanpy - INFO - Chain [1] start processing\n",
      "19:41:49 - cmdstanpy - INFO - Chain [1] done processing\n",
      " 77%|███████▋  | 58/75 [04:52<00:12,  1.33it/s]19:41:50 - cmdstanpy - INFO - Chain [1] start processing\n",
      "19:41:50 - cmdstanpy - INFO - Chain [1] done processing\n",
      " 79%|███████▊  | 59/75 [04:52<00:12,  1.32it/s]19:41:50 - cmdstanpy - INFO - Chain [1] start processing\n",
      "19:41:51 - cmdstanpy - INFO - Chain [1] done processing\n",
      " 80%|████████  | 60/75 [04:53<00:11,  1.35it/s]19:41:51 - cmdstanpy - INFO - Chain [1] start processing\n",
      "19:41:51 - cmdstanpy - INFO - Chain [1] done processing\n",
      " 81%|████████▏ | 61/75 [04:54<00:11,  1.27it/s]19:41:52 - cmdstanpy - INFO - Chain [1] start processing\n",
      "19:41:52 - cmdstanpy - INFO - Chain [1] done processing\n",
      " 83%|████████▎ | 62/75 [04:55<00:10,  1.21it/s]19:41:53 - cmdstanpy - INFO - Chain [1] start processing\n",
      "19:41:53 - cmdstanpy - INFO - Chain [1] done processing\n",
      " 84%|████████▍ | 63/75 [04:56<00:10,  1.13it/s]19:41:54 - cmdstanpy - INFO - Chain [1] start processing\n",
      "19:41:54 - cmdstanpy - INFO - Chain [1] done processing\n",
      " 85%|████████▌ | 64/75 [04:57<00:09,  1.11it/s]19:41:55 - cmdstanpy - INFO - Chain [1] start processing\n",
      "19:41:55 - cmdstanpy - INFO - Chain [1] done processing\n",
      " 87%|████████▋ | 65/75 [04:58<00:09,  1.05it/s]19:41:56 - cmdstanpy - INFO - Chain [1] start processing\n",
      "19:41:57 - cmdstanpy - INFO - Chain [1] done processing\n",
      " 88%|████████▊ | 66/75 [04:59<00:09,  1.07s/it]19:41:58 - cmdstanpy - INFO - Chain [1] start processing\n",
      "19:41:59 - cmdstanpy - INFO - Chain [1] done processing\n",
      " 89%|████████▉ | 67/75 [05:01<00:10,  1.31s/it]19:41:59 - cmdstanpy - INFO - Chain [1] start processing\n",
      "19:42:00 - cmdstanpy - INFO - Chain [1] done processing\n",
      " 91%|█████████ | 68/75 [05:03<00:10,  1.45s/it]19:42:01 - cmdstanpy - INFO - Chain [1] start processing\n",
      "19:42:01 - cmdstanpy - INFO - Chain [1] done processing\n",
      " 92%|█████████▏| 69/75 [05:04<00:07,  1.33s/it]19:42:02 - cmdstanpy - INFO - Chain [1] start processing\n",
      "19:42:02 - cmdstanpy - INFO - Chain [1] done processing\n",
      " 93%|█████████▎| 70/75 [05:05<00:06,  1.20s/it]19:42:03 - cmdstanpy - INFO - Chain [1] start processing\n",
      "19:42:03 - cmdstanpy - INFO - Chain [1] done processing\n",
      " 95%|█████████▍| 71/75 [05:06<00:04,  1.13s/it]19:42:04 - cmdstanpy - INFO - Chain [1] start processing\n",
      "19:42:04 - cmdstanpy - INFO - Chain [1] done processing\n",
      " 96%|█████████▌| 72/75 [05:07<00:03,  1.13s/it]19:42:05 - cmdstanpy - INFO - Chain [1] start processing\n",
      "19:42:06 - cmdstanpy - INFO - Chain [1] done processing\n",
      " 97%|█████████▋| 73/75 [05:08<00:02,  1.14s/it]19:42:06 - cmdstanpy - INFO - Chain [1] start processing\n",
      "19:42:07 - cmdstanpy - INFO - Chain [1] done processing\n",
      " 99%|█████████▊| 74/75 [05:09<00:01,  1.17s/it]19:42:07 - cmdstanpy - INFO - Chain [1] start processing\n",
      "19:42:08 - cmdstanpy - INFO - Chain [1] done processing\n",
      "100%|██████████| 75/75 [05:10<00:00,  4.14s/it]\n"
     ]
    }
   ],
   "source": [
    "cv_results=cross_validation(model=model_ml,initial=pd.to_timedelta(30*20,unit='D'), period=pd.to_timedelta(30*5,unit='D'),horizon=pd.to_timedelta(30*12,unit='D'))\n",
    "df_p=performance_metrics(cv_results)"
   ]
  },
  {
   "cell_type": "code",
   "execution_count": 55,
   "metadata": {},
   "outputs": [
    {
     "data": {
      "text/html": [
       "<div>\n",
       "<style scoped>\n",
       "    .dataframe tbody tr th:only-of-type {\n",
       "        vertical-align: middle;\n",
       "    }\n",
       "\n",
       "    .dataframe tbody tr th {\n",
       "        vertical-align: top;\n",
       "    }\n",
       "\n",
       "    .dataframe thead th {\n",
       "        text-align: right;\n",
       "    }\n",
       "</style>\n",
       "<table border=\"1\" class=\"dataframe\">\n",
       "  <thead>\n",
       "    <tr style=\"text-align: right;\">\n",
       "      <th></th>\n",
       "      <th>horizon</th>\n",
       "      <th>mse</th>\n",
       "      <th>rmse</th>\n",
       "      <th>mae</th>\n",
       "      <th>mape</th>\n",
       "      <th>mdape</th>\n",
       "      <th>smape</th>\n",
       "      <th>coverage</th>\n",
       "    </tr>\n",
       "  </thead>\n",
       "  <tbody>\n",
       "    <tr>\n",
       "      <th>0</th>\n",
       "      <td>36 days</td>\n",
       "      <td>45.733421</td>\n",
       "      <td>6.762649</td>\n",
       "      <td>1.222125</td>\n",
       "      <td>0.017253</td>\n",
       "      <td>0.003849</td>\n",
       "      <td>0.028131</td>\n",
       "      <td>0.284091</td>\n",
       "    </tr>\n",
       "    <tr>\n",
       "      <th>1</th>\n",
       "      <td>37 days</td>\n",
       "      <td>45.750455</td>\n",
       "      <td>6.763908</td>\n",
       "      <td>1.230660</td>\n",
       "      <td>0.017314</td>\n",
       "      <td>0.003812</td>\n",
       "      <td>0.028192</td>\n",
       "      <td>0.280303</td>\n",
       "    </tr>\n",
       "    <tr>\n",
       "      <th>2</th>\n",
       "      <td>38 days</td>\n",
       "      <td>45.761661</td>\n",
       "      <td>6.764737</td>\n",
       "      <td>1.238703</td>\n",
       "      <td>0.017381</td>\n",
       "      <td>0.003812</td>\n",
       "      <td>0.028260</td>\n",
       "      <td>0.272727</td>\n",
       "    </tr>\n",
       "    <tr>\n",
       "      <th>3</th>\n",
       "      <td>39 days</td>\n",
       "      <td>45.754656</td>\n",
       "      <td>6.764219</td>\n",
       "      <td>1.236323</td>\n",
       "      <td>0.017363</td>\n",
       "      <td>0.003785</td>\n",
       "      <td>0.028241</td>\n",
       "      <td>0.276515</td>\n",
       "    </tr>\n",
       "    <tr>\n",
       "      <th>4</th>\n",
       "      <td>40 days</td>\n",
       "      <td>45.740144</td>\n",
       "      <td>6.763146</td>\n",
       "      <td>1.223321</td>\n",
       "      <td>0.017234</td>\n",
       "      <td>0.003672</td>\n",
       "      <td>0.028112</td>\n",
       "      <td>0.295455</td>\n",
       "    </tr>\n",
       "    <tr>\n",
       "      <th>...</th>\n",
       "      <td>...</td>\n",
       "      <td>...</td>\n",
       "      <td>...</td>\n",
       "      <td>...</td>\n",
       "      <td>...</td>\n",
       "      <td>...</td>\n",
       "      <td>...</td>\n",
       "      <td>...</td>\n",
       "    </tr>\n",
       "    <tr>\n",
       "      <th>320</th>\n",
       "      <td>356 days</td>\n",
       "      <td>6.461191</td>\n",
       "      <td>2.541887</td>\n",
       "      <td>1.356317</td>\n",
       "      <td>0.014958</td>\n",
       "      <td>0.007893</td>\n",
       "      <td>0.015351</td>\n",
       "      <td>0.454545</td>\n",
       "    </tr>\n",
       "    <tr>\n",
       "      <th>321</th>\n",
       "      <td>357 days</td>\n",
       "      <td>7.214137</td>\n",
       "      <td>2.685915</td>\n",
       "      <td>1.420427</td>\n",
       "      <td>0.015370</td>\n",
       "      <td>0.007893</td>\n",
       "      <td>0.015798</td>\n",
       "      <td>0.448864</td>\n",
       "    </tr>\n",
       "    <tr>\n",
       "      <th>322</th>\n",
       "      <td>358 days</td>\n",
       "      <td>7.059147</td>\n",
       "      <td>2.656906</td>\n",
       "      <td>1.386802</td>\n",
       "      <td>0.015021</td>\n",
       "      <td>0.007356</td>\n",
       "      <td>0.015449</td>\n",
       "      <td>0.448864</td>\n",
       "    </tr>\n",
       "    <tr>\n",
       "      <th>323</th>\n",
       "      <td>359 days</td>\n",
       "      <td>6.914020</td>\n",
       "      <td>2.629452</td>\n",
       "      <td>1.355171</td>\n",
       "      <td>0.014746</td>\n",
       "      <td>0.007356</td>\n",
       "      <td>0.015172</td>\n",
       "      <td>0.450758</td>\n",
       "    </tr>\n",
       "    <tr>\n",
       "      <th>324</th>\n",
       "      <td>360 days</td>\n",
       "      <td>8.281689</td>\n",
       "      <td>2.877792</td>\n",
       "      <td>1.465232</td>\n",
       "      <td>0.015614</td>\n",
       "      <td>0.007899</td>\n",
       "      <td>0.016091</td>\n",
       "      <td>0.443182</td>\n",
       "    </tr>\n",
       "  </tbody>\n",
       "</table>\n",
       "<p>325 rows × 8 columns</p>\n",
       "</div>"
      ],
      "text/plain": [
       "     horizon        mse      rmse       mae      mape     mdape     smape  \\\n",
       "0    36 days  45.733421  6.762649  1.222125  0.017253  0.003849  0.028131   \n",
       "1    37 days  45.750455  6.763908  1.230660  0.017314  0.003812  0.028192   \n",
       "2    38 days  45.761661  6.764737  1.238703  0.017381  0.003812  0.028260   \n",
       "3    39 days  45.754656  6.764219  1.236323  0.017363  0.003785  0.028241   \n",
       "4    40 days  45.740144  6.763146  1.223321  0.017234  0.003672  0.028112   \n",
       "..       ...        ...       ...       ...       ...       ...       ...   \n",
       "320 356 days   6.461191  2.541887  1.356317  0.014958  0.007893  0.015351   \n",
       "321 357 days   7.214137  2.685915  1.420427  0.015370  0.007893  0.015798   \n",
       "322 358 days   7.059147  2.656906  1.386802  0.015021  0.007356  0.015449   \n",
       "323 359 days   6.914020  2.629452  1.355171  0.014746  0.007356  0.015172   \n",
       "324 360 days   8.281689  2.877792  1.465232  0.015614  0.007899  0.016091   \n",
       "\n",
       "     coverage  \n",
       "0    0.284091  \n",
       "1    0.280303  \n",
       "2    0.272727  \n",
       "3    0.276515  \n",
       "4    0.295455  \n",
       "..        ...  \n",
       "320  0.454545  \n",
       "321  0.448864  \n",
       "322  0.448864  \n",
       "323  0.450758  \n",
       "324  0.443182  \n",
       "\n",
       "[325 rows x 8 columns]"
      ]
     },
     "execution_count": 55,
     "metadata": {},
     "output_type": "execute_result"
    }
   ],
   "source": [
    "df_p"
   ]
  },
  {
   "cell_type": "code",
   "execution_count": 56,
   "metadata": {},
   "outputs": [
    {
     "data": {
      "image/png": "[encoded data removed]",
      "text/plain": [
       "<Figure size 1000x600 with 1 Axes>"
      ]
     },
     "metadata": {},
     "output_type": "display_data"
    }
   ],
   "source": [
    "from prophet.plot import plot_cross_validation_metric\n",
    "fig=plot_cross_validation_metric(cv_results,metric='rmse')"
   ]
  },
  {
   "cell_type": "code",
   "execution_count": null,
   "metadata": {},
   "outputs": [],
   "source": []
  }
 ],
 "metadata": {
  "kernelspec": {
   "display_name": "Python 3",
   "language": "python",
   "name": "python3"
  },
  "language_info": {
   "codemirror_mode": {
    "name": "ipython",
    "version": 3
   },
   "file_extension": ".py",
   "mimetype": "text/x-python",
   "name": "python",
   "nbconvert_exporter": "python",
   "pygments_lexer": "ipython3",
   "version": "3.10.8"
  },
  "orig_nbformat": 4
 },
 "nbformat": 4,
 "nbformat_minor": 2
}
